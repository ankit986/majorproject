{
  "cells": [
    {
      "cell_type": "markdown",
      "metadata": {
        "id": "eatsmeNVElhR",
        "colab_type": "text"
      },
      "source": [
        "**Project: Stock Market Analysis and Prediction**\n",
        "\n",
        "Stock Market Data From Google Finance\n",
        "\n",
        "**Introduction**\n",
        "\n",
        "Stock Market Analysis and Prediction is the project on technical analysis, visualization and prediction using data provided by Google Finance. By looking at data from the stock market, particularly some giant technology stocks and others. Used pandas to get stock information, visualize different aspects of it, and finally looked at a few ways of analyzing the risk of a stock, based on its previous performance history. Predicted future stock prices through a Monte Carlo method!\n",
        "\n",
        "Questions\n",
        "\n",
        "In this analysis, I would like to explore the following questions.\n",
        "\n",
        "What was the change in price of the stock over time?\n",
        "\n",
        "What was the daily return of the stock on average?\n",
        "\n",
        "What was the moving average of the various stocks?\n",
        "\n",
        "What was the correlation between different stocks' closing prices?\n",
        "\n",
        "What was the correlation between different stocks' daily returns?\n",
        "\n",
        "How much value do we put at risk by investing in a particular stock?\n",
        "\n",
        "How can we attempt to predict future stock behavior?"
      ]
    },
    {
      "cell_type": "markdown",
      "metadata": {
        "id": "CS5Dvq5tLm_q",
        "colab_type": "text"
      },
      "source": [
        "Importing Libraries"
      ]
    },
    {
      "cell_type": "code",
      "metadata": {
        "id": "EL7zUTSuHxo4",
        "colab_type": "code",
        "outputId": "b6b9cc7d-128f-452d-e9f5-b8f8818b1b9d",
        "colab": {
          "base_uri": "https://localhost:8080/",
          "height": 72
        }
      },
      "source": [
        "# For Data Processing\n",
        "import pandas as pd\n",
        "import numpy as np\n",
        "from pandas import Series, DataFrame\n",
        "\n",
        "# For Data Visualisation\n",
        "import matplotlib.pyplot as plt\n",
        "import seaborn as sns\n"
      ],
      "execution_count": 1,
      "outputs": [
        {
          "output_type": "error",
          "ename": "ImportError",
          "evalue": "cannot import name '_imaging' from 'PIL' (/usr/lib/python3/dist-packages/PIL/__init__.py)",
          "traceback": [
            "\u001b[0;31m---------------------------------------------------------------------------\u001b[0m",
            "\u001b[0;31mImportError\u001b[0m                               Traceback (most recent call last)",
            "\u001b[0;32m<ipython-input-1-863677f9895d>\u001b[0m in \u001b[0;36m<module>\u001b[0;34m\u001b[0m\n\u001b[1;32m      5\u001b[0m \u001b[0;34m\u001b[0m\u001b[0m\n\u001b[1;32m      6\u001b[0m \u001b[0;31m# For Data Visualisation\u001b[0m\u001b[0;34m\u001b[0m\u001b[0;34m\u001b[0m\u001b[0;34m\u001b[0m\u001b[0m\n\u001b[0;32m----> 7\u001b[0;31m \u001b[0;32mimport\u001b[0m \u001b[0mmatplotlib\u001b[0m\u001b[0;34m.\u001b[0m\u001b[0mpyplot\u001b[0m \u001b[0;32mas\u001b[0m \u001b[0mplt\u001b[0m\u001b[0;34m\u001b[0m\u001b[0;34m\u001b[0m\u001b[0m\n\u001b[0m\u001b[1;32m      8\u001b[0m \u001b[0;32mimport\u001b[0m \u001b[0mseaborn\u001b[0m \u001b[0;32mas\u001b[0m \u001b[0msns\u001b[0m\u001b[0;34m\u001b[0m\u001b[0;34m\u001b[0m\u001b[0m\n",
            "\u001b[0;32m~/.local/lib/python3.7/site-packages/matplotlib/pyplot.py\u001b[0m in \u001b[0;36m<module>\u001b[0;34m\u001b[0m\n\u001b[1;32m   2280\u001b[0m     \u001b[0mdict\u001b[0m\u001b[0;34m.\u001b[0m\u001b[0m__setitem__\u001b[0m\u001b[0;34m(\u001b[0m\u001b[0mrcParams\u001b[0m\u001b[0;34m,\u001b[0m \u001b[0;34m\"backend\"\u001b[0m\u001b[0;34m,\u001b[0m \u001b[0mrcsetup\u001b[0m\u001b[0;34m.\u001b[0m\u001b[0m_auto_backend_sentinel\u001b[0m\u001b[0;34m)\u001b[0m\u001b[0;34m\u001b[0m\u001b[0;34m\u001b[0m\u001b[0m\n\u001b[1;32m   2281\u001b[0m \u001b[0;31m# Set up the backend.\u001b[0m\u001b[0;34m\u001b[0m\u001b[0;34m\u001b[0m\u001b[0;34m\u001b[0m\u001b[0m\n\u001b[0;32m-> 2282\u001b[0;31m \u001b[0mswitch_backend\u001b[0m\u001b[0;34m(\u001b[0m\u001b[0mrcParams\u001b[0m\u001b[0;34m[\u001b[0m\u001b[0;34m\"backend\"\u001b[0m\u001b[0;34m]\u001b[0m\u001b[0;34m)\u001b[0m\u001b[0;34m\u001b[0m\u001b[0;34m\u001b[0m\u001b[0m\n\u001b[0m\u001b[1;32m   2283\u001b[0m \u001b[0;34m\u001b[0m\u001b[0m\n\u001b[1;32m   2284\u001b[0m \u001b[0;31m# Just to be safe.  Interactive mode can be turned on without\u001b[0m\u001b[0;34m\u001b[0m\u001b[0;34m\u001b[0m\u001b[0;34m\u001b[0m\u001b[0m\n",
            "\u001b[0;32m~/.local/lib/python3.7/site-packages/matplotlib/pyplot.py\u001b[0m in \u001b[0;36mswitch_backend\u001b[0;34m(newbackend)\u001b[0m\n\u001b[1;32m    219\u001b[0m         else \"matplotlib.backends.backend_{}\".format(newbackend.lower()))\n\u001b[1;32m    220\u001b[0m \u001b[0;34m\u001b[0m\u001b[0m\n\u001b[0;32m--> 221\u001b[0;31m     \u001b[0mbackend_mod\u001b[0m \u001b[0;34m=\u001b[0m \u001b[0mimportlib\u001b[0m\u001b[0;34m.\u001b[0m\u001b[0mimport_module\u001b[0m\u001b[0;34m(\u001b[0m\u001b[0mbackend_name\u001b[0m\u001b[0;34m)\u001b[0m\u001b[0;34m\u001b[0m\u001b[0;34m\u001b[0m\u001b[0m\n\u001b[0m\u001b[1;32m    222\u001b[0m     Backend = type(\n\u001b[1;32m    223\u001b[0m         \"Backend\", (matplotlib.backends._Backend,), vars(backend_mod))\n",
            "\u001b[0;32m/usr/lib/python3.7/importlib/__init__.py\u001b[0m in \u001b[0;36mimport_module\u001b[0;34m(name, package)\u001b[0m\n\u001b[1;32m    125\u001b[0m                 \u001b[0;32mbreak\u001b[0m\u001b[0;34m\u001b[0m\u001b[0;34m\u001b[0m\u001b[0m\n\u001b[1;32m    126\u001b[0m             \u001b[0mlevel\u001b[0m \u001b[0;34m+=\u001b[0m \u001b[0;36m1\u001b[0m\u001b[0;34m\u001b[0m\u001b[0;34m\u001b[0m\u001b[0m\n\u001b[0;32m--> 127\u001b[0;31m     \u001b[0;32mreturn\u001b[0m \u001b[0m_bootstrap\u001b[0m\u001b[0;34m.\u001b[0m\u001b[0m_gcd_import\u001b[0m\u001b[0;34m(\u001b[0m\u001b[0mname\u001b[0m\u001b[0;34m[\u001b[0m\u001b[0mlevel\u001b[0m\u001b[0;34m:\u001b[0m\u001b[0;34m]\u001b[0m\u001b[0;34m,\u001b[0m \u001b[0mpackage\u001b[0m\u001b[0;34m,\u001b[0m \u001b[0mlevel\u001b[0m\u001b[0;34m)\u001b[0m\u001b[0;34m\u001b[0m\u001b[0;34m\u001b[0m\u001b[0m\n\u001b[0m\u001b[1;32m    128\u001b[0m \u001b[0;34m\u001b[0m\u001b[0m\n\u001b[1;32m    129\u001b[0m \u001b[0;34m\u001b[0m\u001b[0m\n",
            "\u001b[0;32m~/.local/lib/python3.7/site-packages/ipykernel/pylab/backend_inline.py\u001b[0m in \u001b[0;36m<module>\u001b[0;34m\u001b[0m\n\u001b[1;32m      7\u001b[0m \u001b[0;34m\u001b[0m\u001b[0m\n\u001b[1;32m      8\u001b[0m \u001b[0;32mimport\u001b[0m \u001b[0mmatplotlib\u001b[0m\u001b[0;34m\u001b[0m\u001b[0;34m\u001b[0m\u001b[0m\n\u001b[0;32m----> 9\u001b[0;31m from matplotlib.backends.backend_agg import (\n\u001b[0m\u001b[1;32m     10\u001b[0m     \u001b[0mnew_figure_manager\u001b[0m\u001b[0;34m,\u001b[0m\u001b[0;34m\u001b[0m\u001b[0;34m\u001b[0m\u001b[0m\n\u001b[1;32m     11\u001b[0m     \u001b[0mFigureCanvasAgg\u001b[0m\u001b[0;34m,\u001b[0m\u001b[0;34m\u001b[0m\u001b[0;34m\u001b[0m\u001b[0m\n",
            "\u001b[0;32m~/.local/lib/python3.7/site-packages/matplotlib/backends/backend_agg.py\u001b[0m in \u001b[0;36m<module>\u001b[0;34m\u001b[0m\n\u001b[1;32m     48\u001b[0m \u001b[0;34m\u001b[0m\u001b[0m\n\u001b[1;32m     49\u001b[0m \u001b[0;32mif\u001b[0m \u001b[0m_has_pil\u001b[0m\u001b[0;34m:\u001b[0m\u001b[0;34m\u001b[0m\u001b[0;34m\u001b[0m\u001b[0m\n\u001b[0;32m---> 50\u001b[0;31m     \u001b[0;32mfrom\u001b[0m \u001b[0mPIL\u001b[0m \u001b[0;32mimport\u001b[0m \u001b[0mImage\u001b[0m\u001b[0;34m\u001b[0m\u001b[0;34m\u001b[0m\u001b[0m\n\u001b[0m\u001b[1;32m     51\u001b[0m \u001b[0;34m\u001b[0m\u001b[0m\n\u001b[1;32m     52\u001b[0m \u001b[0mbackend_version\u001b[0m \u001b[0;34m=\u001b[0m \u001b[0;34m'v2.2'\u001b[0m\u001b[0;34m\u001b[0m\u001b[0;34m\u001b[0m\u001b[0m\n",
            "\u001b[0;32m/usr/lib/python3/dist-packages/PIL/Image.py\u001b[0m in \u001b[0;36m<module>\u001b[0;34m\u001b[0m\n\u001b[1;32m     58\u001b[0m     \u001b[0;31m# Also note that Image.core is not a publicly documented interface,\u001b[0m\u001b[0;34m\u001b[0m\u001b[0;34m\u001b[0m\u001b[0;34m\u001b[0m\u001b[0m\n\u001b[1;32m     59\u001b[0m     \u001b[0;31m# and should be considered private and subject to change.\u001b[0m\u001b[0;34m\u001b[0m\u001b[0;34m\u001b[0m\u001b[0;34m\u001b[0m\u001b[0m\n\u001b[0;32m---> 60\u001b[0;31m     \u001b[0;32mfrom\u001b[0m \u001b[0;34m.\u001b[0m \u001b[0;32mimport\u001b[0m \u001b[0m_imaging\u001b[0m \u001b[0;32mas\u001b[0m \u001b[0mcore\u001b[0m\u001b[0;34m\u001b[0m\u001b[0;34m\u001b[0m\u001b[0m\n\u001b[0m\u001b[1;32m     61\u001b[0m     \u001b[0;32mif\u001b[0m \u001b[0mPILLOW_VERSION\u001b[0m \u001b[0;34m!=\u001b[0m \u001b[0mgetattr\u001b[0m\u001b[0;34m(\u001b[0m\u001b[0mcore\u001b[0m\u001b[0;34m,\u001b[0m \u001b[0;34m'PILLOW_VERSION'\u001b[0m\u001b[0;34m,\u001b[0m \u001b[0;32mNone\u001b[0m\u001b[0;34m)\u001b[0m\u001b[0;34m:\u001b[0m\u001b[0;34m\u001b[0m\u001b[0;34m\u001b[0m\u001b[0m\n\u001b[1;32m     62\u001b[0m         raise ImportError(\"The _imaging extension was built for another \"\n",
            "\u001b[0;31mImportError\u001b[0m: cannot import name '_imaging' from 'PIL' (/usr/lib/python3/dist-packages/PIL/__init__.py)"
          ]
        }
      ]
    },
    {
      "cell_type": "code",
      "metadata": {
        "id": "ahL5vhHdY4Te",
        "colab_type": "code",
        "colab": {}
      },
      "source": [
        "# Reading Data from yahoo\n",
        "from pandas_datareader import DataReader\n",
        "\n",
        "#for data time stamp\n",
        "from datetime import datetime\n",
        "\n",
        "#for division\n",
        "from __future__ import division as div"
      ],
      "execution_count": null,
      "outputs": []
    },
    {
      "cell_type": "markdown",
      "metadata": {
        "id": "1AeC4qI31RIf",
        "colab_type": "text"
      },
      "source": [
        "Section 1 - Basic Analysis of Stock Information\n",
        "> \n",
        "\n",
        "In this section I'll go over how to handle requesting stock information with pandas, and how to analyze basic attributes of a stock.\n"
      ]
    },
    {
      "cell_type": "code",
      "metadata": {
        "id": "xf35YC4nZnRg",
        "colab_type": "code",
        "colab": {}
      },
      "source": [
        "# List of Tech_stocks for analytics\n",
        "tech_list = ['AAPL','GOOGL','MSFT','AMZN']\n",
        "\n",
        "# set up Start and End time for data grab\n",
        "end = datetime.now()\n",
        "start = datetime(end.year-1,end.month,end.day)\n",
        "\n",
        "#For-loop for grabing google finance data and setting as a dataframe\n",
        "# Set DataFrame as the Stock Ticker\n",
        "\n",
        "for stock in tech_list:\n",
        "    globals()[stock] = DataReader(stock,'yahoo',start,end)  #change"
      ],
      "execution_count": 29,
      "outputs": [
        {
          "output_type": "error",
          "ename": "NameError",
          "evalue": "name 'datetime' is not defined",
          "traceback": [
            "\u001b[0;31m---------------------------------------------------------------------------\u001b[0m",
            "\u001b[0;31mNameError\u001b[0m                                 Traceback (most recent call last)",
            "\u001b[0;32m<ipython-input-29-5e490014948d>\u001b[0m in \u001b[0;36m<module>\u001b[0;34m\u001b[0m\n\u001b[1;32m      3\u001b[0m \u001b[0;34m\u001b[0m\u001b[0m\n\u001b[1;32m      4\u001b[0m \u001b[0;31m# set up Start and End time for data grab\u001b[0m\u001b[0;34m\u001b[0m\u001b[0;34m\u001b[0m\u001b[0;34m\u001b[0m\u001b[0m\n\u001b[0;32m----> 5\u001b[0;31m \u001b[0mend\u001b[0m \u001b[0;34m=\u001b[0m \u001b[0mdatetime\u001b[0m\u001b[0;34m.\u001b[0m\u001b[0mnow\u001b[0m\u001b[0;34m(\u001b[0m\u001b[0;34m)\u001b[0m\u001b[0;34m\u001b[0m\u001b[0;34m\u001b[0m\u001b[0m\n\u001b[0m\u001b[1;32m      6\u001b[0m \u001b[0mstart\u001b[0m \u001b[0;34m=\u001b[0m \u001b[0mdatetime\u001b[0m\u001b[0;34m(\u001b[0m\u001b[0mend\u001b[0m\u001b[0;34m.\u001b[0m\u001b[0myear\u001b[0m\u001b[0;34m-\u001b[0m\u001b[0;36m1\u001b[0m\u001b[0;34m,\u001b[0m\u001b[0mend\u001b[0m\u001b[0;34m.\u001b[0m\u001b[0mmonth\u001b[0m\u001b[0;34m,\u001b[0m\u001b[0mend\u001b[0m\u001b[0;34m.\u001b[0m\u001b[0mday\u001b[0m\u001b[0;34m)\u001b[0m\u001b[0;34m\u001b[0m\u001b[0;34m\u001b[0m\u001b[0m\n\u001b[1;32m      7\u001b[0m \u001b[0;34m\u001b[0m\u001b[0m\n",
            "\u001b[0;31mNameError\u001b[0m: name 'datetime' is not defined"
          ]
        }
      ]
    },
    {
      "cell_type": "code",
      "metadata": {
        "id": "KJQcDKV3pFSo",
        "colab_type": "code",
        "colab": {}
      },
      "source": [
        ""
      ],
      "execution_count": 0,
      "outputs": []
    },
    {
      "cell_type": "code",
      "metadata": {
        "id": "TzcApX2T1s4o",
        "colab_type": "code",
        "outputId": "5b901977-c05d-4ac2-84c6-24b5cf8a8281",
        "colab": {
          "base_uri": "https://localhost:8080/",
          "height": 455
        }
      },
      "source": [
        "AAPL"
      ],
      "execution_count": null,
      "outputs": []
    },
    {
      "cell_type": "code",
      "metadata": {
        "id": "fic2cjHz1wnp",
        "colab_type": "code",
        "outputId": "04553e57-34dd-4b2e-84be-6e7704794737",
        "colab": {
          "base_uri": "https://localhost:8080/",
          "height": 300
        }
      },
      "source": [
        "AAPL.describe()"
      ],
      "execution_count": 33,
      "outputs": [
        {
          "output_type": "error",
          "ename": "NameError",
          "evalue": "name 'AAPL' is not defined",
          "traceback": [
            "\u001b[0;31m---------------------------------------------------------------------------\u001b[0m",
            "\u001b[0;31mNameError\u001b[0m                                 Traceback (most recent call last)",
            "\u001b[0;32m<ipython-input-33-d8f9a2573fd0>\u001b[0m in \u001b[0;36m<module>\u001b[0;34m\u001b[0m\n\u001b[0;32m----> 1\u001b[0;31m \u001b[0mAAPL\u001b[0m\u001b[0;34m.\u001b[0m\u001b[0mdescribe\u001b[0m\u001b[0;34m(\u001b[0m\u001b[0;34m)\u001b[0m\u001b[0;34m\u001b[0m\u001b[0;34m\u001b[0m\u001b[0m\n\u001b[0m",
            "\u001b[0;31mNameError\u001b[0m: name 'AAPL' is not defined"
          ]
        }
      ]
    },
    {
      "cell_type": "code",
      "metadata": {
        "id": "G-NMuALO10dI",
        "colab_type": "code",
        "outputId": "81fe6b0c-dd3e-47bd-c7ee-328fd9ab2976",
        "colab": {
          "base_uri": "https://localhost:8080/",
          "height": 243
        }
      },
      "source": [
        "AAPL.info()"
      ],
      "execution_count": null,
      "outputs": []
    },
    {
      "cell_type": "markdown",
      "metadata": {
        "id": "Ep1t8Jhtp7jy",
        "colab_type": "text"
      },
      "source": [
        "Now that we've seen the DataFrame, let's go ahead and plot out the volume and closing price of the AAPL(Apple) stocks."
      ]
    },
    {
      "cell_type": "code",
      "metadata": {
        "id": "BEjbk56X13Q_",
        "colab_type": "code",
        "outputId": "346a368e-93bc-4a75-d971-24ce42bcc9ae",
        "colab": {
          "base_uri": "https://localhost:8080/",
          "height": 294
        }
      },
      "source": [
        "# Let's see a historical view of the closing price\n",
        "AAPL['Close'].plot(figsize=(20,4))"
      ],
      "execution_count": 37,
      "outputs": [
        {
          "output_type": "error",
          "ename": "NameError",
          "evalue": "name 'AAPL' is not defined",
          "traceback": [
            "\u001b[0;31m---------------------------------------------------------------------------\u001b[0m",
            "\u001b[0;31mNameError\u001b[0m                                 Traceback (most recent call last)",
            "\u001b[0;32m<ipython-input-37-e4443fcc415c>\u001b[0m in \u001b[0;36m<module>\u001b[0;34m\u001b[0m\n\u001b[1;32m      1\u001b[0m \u001b[0;31m# Let's see a historical view of the closing price\u001b[0m\u001b[0;34m\u001b[0m\u001b[0;34m\u001b[0m\u001b[0;34m\u001b[0m\u001b[0m\n\u001b[0;32m----> 2\u001b[0;31m \u001b[0mAAPL\u001b[0m\u001b[0;34m[\u001b[0m\u001b[0;34m'Close'\u001b[0m\u001b[0;34m]\u001b[0m\u001b[0;34m.\u001b[0m\u001b[0mplot\u001b[0m\u001b[0;34m(\u001b[0m\u001b[0mfigsize\u001b[0m\u001b[0;34m=\u001b[0m\u001b[0;34m(\u001b[0m\u001b[0;36m20\u001b[0m\u001b[0;34m,\u001b[0m\u001b[0;36m4\u001b[0m\u001b[0;34m)\u001b[0m\u001b[0;34m)\u001b[0m\u001b[0;34m\u001b[0m\u001b[0;34m\u001b[0m\u001b[0m\n\u001b[0m",
            "\u001b[0;31mNameError\u001b[0m: name 'AAPL' is not defined"
          ]
        }
      ]
    },
    {
      "cell_type": "code",
      "metadata": {
        "id": "4qH1awry17a-",
        "colab_type": "code",
        "outputId": "00b64610-f195-4a95-d047-1b7de3b4eb61",
        "colab": {
          "base_uri": "https://localhost:8080/",
          "height": 501
        }
      },
      "source": [
        "# Now let's plot the total volume of stock being traded each day over the past year\n",
        "\n",
        "AAPL['Volume'].plot(legend=True, figsize=(20,8))"
      ],
      "execution_count": null,
      "outputs": []
    },
    {
      "cell_type": "markdown",
      "metadata": {
        "id": "WWVxqbNZ2Ek9",
        "colab_type": "text"
      },
      "source": [
        "We can see that on Jan'2019 was the higher for AAPL stock being traded.\n",
        "\n",
        "Now that we've seen the visualizations for the closing price and the volume traded each day for AAPL stock. Let's go ahead and caculate the moving average for the AAPL stock."
      ]
    },
    {
      "cell_type": "code",
      "metadata": {
        "id": "3ZSGKV1R1-ux",
        "colab_type": "code",
        "colab": {}
      },
      "source": [
        "# Pandas has a built-in rolling mean calculator\n",
        "\n",
        "# Let's go ahead and plot out several moving averages\n",
        "MA_day = [5,50,100,200]\n",
        "\n",
        "for ma in MA_day:\n",
        "    column_name = 'MA for %s days' %(str(ma))\n",
        "    AAPL[column_name] = AAPL['Close'].rolling(ma).mean()  # change"
      ],
      "execution_count": 41,
      "outputs": [
        {
          "output_type": "error",
          "ename": "NameError",
          "evalue": "name 'AAPL' is not defined",
          "traceback": [
            "\u001b[0;31m---------------------------------------------------------------------------\u001b[0m",
            "\u001b[0;31mNameError\u001b[0m                                 Traceback (most recent call last)",
            "\u001b[0;32m<ipython-input-41-9723bbd7fce5>\u001b[0m in \u001b[0;36m<module>\u001b[0;34m\u001b[0m\n\u001b[1;32m      6\u001b[0m \u001b[0;32mfor\u001b[0m \u001b[0mma\u001b[0m \u001b[0;32min\u001b[0m \u001b[0mMA_day\u001b[0m\u001b[0;34m:\u001b[0m\u001b[0;34m\u001b[0m\u001b[0;34m\u001b[0m\u001b[0m\n\u001b[1;32m      7\u001b[0m     \u001b[0mcolumn_name\u001b[0m \u001b[0;34m=\u001b[0m \u001b[0;34m'MA for %s days'\u001b[0m \u001b[0;34m%\u001b[0m\u001b[0;34m(\u001b[0m\u001b[0mstr\u001b[0m\u001b[0;34m(\u001b[0m\u001b[0mma\u001b[0m\u001b[0;34m)\u001b[0m\u001b[0;34m)\u001b[0m\u001b[0;34m\u001b[0m\u001b[0;34m\u001b[0m\u001b[0m\n\u001b[0;32m----> 8\u001b[0;31m     \u001b[0mAAPL\u001b[0m\u001b[0;34m[\u001b[0m\u001b[0mcolumn_name\u001b[0m\u001b[0;34m]\u001b[0m \u001b[0;34m=\u001b[0m \u001b[0mAAPL\u001b[0m\u001b[0;34m[\u001b[0m\u001b[0;34m'Close'\u001b[0m\u001b[0;34m]\u001b[0m\u001b[0;34m.\u001b[0m\u001b[0mrolling\u001b[0m\u001b[0;34m(\u001b[0m\u001b[0mma\u001b[0m\u001b[0;34m)\u001b[0m\u001b[0;34m.\u001b[0m\u001b[0mmean\u001b[0m\u001b[0;34m(\u001b[0m\u001b[0;34m)\u001b[0m  \u001b[0;31m# change\u001b[0m\u001b[0;34m\u001b[0m\u001b[0;34m\u001b[0m\u001b[0m\n\u001b[0m",
            "\u001b[0;31mNameError\u001b[0m: name 'AAPL' is not defined"
          ]
        }
      ]
    },
    {
      "cell_type": "code",
      "metadata": {
        "id": "cuqRpkdhwirU",
        "colab_type": "code",
        "outputId": "4973dc5d-e369-4674-98f3-873338d8c27f",
        "colab": {
          "base_uri": "https://localhost:8080/",
          "height": 708
        }
      },
      "source": [
        "AAPL.head(20)"
      ],
      "execution_count": null,
      "outputs": []
    },
    {
      "cell_type": "markdown",
      "metadata": {
        "id": "0mk2I_AY2ddu",
        "colab_type": "text"
      },
      "source": [
        "Now, lets plot all the additional Moving Averages for AAPL stock"
      ]
    },
    {
      "cell_type": "code",
      "metadata": {
        "id": "gt9l7HFD2YV8",
        "colab_type": "code",
        "outputId": "88077759-c587-4069-bc92-86e7616ae15d",
        "colab": {
          "base_uri": "https://localhost:8080/",
          "height": 588
        }
      },
      "source": [
        "AAPL[['Close','MA for 20 days','MA for 50 days','MA for 100 days']].plot(subplots=False,figsize=(20,10))"
      ],
      "execution_count": 45,
      "outputs": [
        {
          "output_type": "error",
          "ename": "NameError",
          "evalue": "name 'AAPL' is not defined",
          "traceback": [
            "\u001b[0;31m---------------------------------------------------------------------------\u001b[0m",
            "\u001b[0;31mNameError\u001b[0m                                 Traceback (most recent call last)",
            "\u001b[0;32m<ipython-input-45-96bccd4fe367>\u001b[0m in \u001b[0;36m<module>\u001b[0;34m\u001b[0m\n\u001b[0;32m----> 1\u001b[0;31m \u001b[0mAAPL\u001b[0m\u001b[0;34m[\u001b[0m\u001b[0;34m[\u001b[0m\u001b[0;34m'Close'\u001b[0m\u001b[0;34m,\u001b[0m\u001b[0;34m'MA for 20 days'\u001b[0m\u001b[0;34m,\u001b[0m\u001b[0;34m'MA for 50 days'\u001b[0m\u001b[0;34m,\u001b[0m\u001b[0;34m'MA for 100 days'\u001b[0m\u001b[0;34m]\u001b[0m\u001b[0;34m]\u001b[0m\u001b[0;34m.\u001b[0m\u001b[0mplot\u001b[0m\u001b[0;34m(\u001b[0m\u001b[0msubplots\u001b[0m\u001b[0;34m=\u001b[0m\u001b[0;32mFalse\u001b[0m\u001b[0;34m,\u001b[0m\u001b[0mfigsize\u001b[0m\u001b[0;34m=\u001b[0m\u001b[0;34m(\u001b[0m\u001b[0;36m20\u001b[0m\u001b[0;34m,\u001b[0m\u001b[0;36m10\u001b[0m\u001b[0;34m)\u001b[0m\u001b[0;34m)\u001b[0m\u001b[0;34m\u001b[0m\u001b[0;34m\u001b[0m\u001b[0m\n\u001b[0m",
            "\u001b[0;31mNameError\u001b[0m: name 'AAPL' is not defined"
          ]
        }
      ]
    },
    {
      "cell_type": "markdown",
      "metadata": {
        "id": "EBo-ogB22n4H",
        "colab_type": "text"
      },
      "source": [
        "**Section 2 - Daily Return Analysis**\n",
        "\n",
        "Now, that we've done some baseline analysis, let's go ahead and dive a little deeper. We're now going to analyze the risk of the stock.\n",
        "\n",
        "In order to do so, we need to take a closer look at the daily changes of the stock, and not just its absolute value. Let's go ahead and use pandas to retrieve the daily returns for the APPL stock."
      ]
    },
    {
      "cell_type": "code",
      "metadata": {
        "id": "e-vqy9pZ2hLI",
        "colab_type": "code",
        "outputId": "b13fd8ba-fb47-4849-f0d7-489c49e91b3c",
        "colab": {
          "base_uri": "https://localhost:8080/",
          "height": 294
        }
      },
      "source": [
        "# We'll use pct_change to find the percent change for each day\n",
        "AAPL['Daily Return'] = AAPL['Close'].pct_change()\n",
        "\n",
        "# Lets plot the daily return percentage\n",
        "AAPL['Daily Return'].plot(figsize=(14,4), legend=True, linestyle='--', marker='o')"
      ],
      "execution_count": null,
      "outputs": []
    },
    {
      "cell_type": "markdown",
      "metadata": {
        "id": "tkzplyZI29kM",
        "colab_type": "text"
      },
      "source": [
        "Great, now let's get an overall look at the average daily return using a histogram. By using seaborn to create both a histogram and kde plot on the same figure."
      ]
    },
    {
      "cell_type": "code",
      "metadata": {
        "id": "OQb_3vvU21Fd",
        "colab_type": "code",
        "outputId": "2a762bae-58cc-4ae2-f65a-6695fcb12cde",
        "colab": {
          "base_uri": "https://localhost:8080/",
          "height": 282
        }
      },
      "source": [
        "# only with histogram\n",
        "AAPL['Daily Return'].hist(bins=200)"
      ],
      "execution_count": 49,
      "outputs": [
        {
          "output_type": "error",
          "ename": "NameError",
          "evalue": "name 'AAPL' is not defined",
          "traceback": [
            "\u001b[0;31m---------------------------------------------------------------------------\u001b[0m",
            "\u001b[0;31mNameError\u001b[0m                                 Traceback (most recent call last)",
            "\u001b[0;32m<ipython-input-49-aa5e200af520>\u001b[0m in \u001b[0;36m<module>\u001b[0;34m\u001b[0m\n\u001b[1;32m      1\u001b[0m \u001b[0;31m# only with histogram\u001b[0m\u001b[0;34m\u001b[0m\u001b[0;34m\u001b[0m\u001b[0;34m\u001b[0m\u001b[0m\n\u001b[0;32m----> 2\u001b[0;31m \u001b[0mAAPL\u001b[0m\u001b[0;34m[\u001b[0m\u001b[0;34m'Daily Return'\u001b[0m\u001b[0;34m]\u001b[0m\u001b[0;34m.\u001b[0m\u001b[0mhist\u001b[0m\u001b[0;34m(\u001b[0m\u001b[0mbins\u001b[0m\u001b[0;34m=\u001b[0m\u001b[0;36m200\u001b[0m\u001b[0;34m)\u001b[0m\u001b[0;34m\u001b[0m\u001b[0;34m\u001b[0m\u001b[0m\n\u001b[0m",
            "\u001b[0;31mNameError\u001b[0m: name 'AAPL' is not defined"
          ]
        }
      ]
    },
    {
      "cell_type": "code",
      "metadata": {
        "id": "ZGHn6iPu3Cdw",
        "colab_type": "code",
        "outputId": "6bc799d7-3b72-4df8-addb-1db2245216ab",
        "colab": {
          "base_uri": "https://localhost:8080/",
          "height": 296
        }
      },
      "source": [
        "# Note the use of dropna() here, otherwise the NaN values can't be read by seaborn\n",
        "sns.distplot(AAPL['Daily Return'].dropna(), bins=100, color='orange')"
      ],
      "execution_count": null,
      "outputs": []
    },
    {
      "cell_type": "code",
      "metadata": {
        "id": "8OK_ICxg3jJ4",
        "colab_type": "code",
        "colab": {}
      },
      "source": [
        "# Grab all the closing prices for the tech stock list into one DataFrame\n",
        "\n",
        "closingprice_df = DataReader(tech_list, 'yahoo', start, end)['Close']"
      ],
      "execution_count": 53,
      "outputs": [
        {
          "output_type": "error",
          "ename": "NameError",
          "evalue": "name 'DataReader' is not defined",
          "traceback": [
            "\u001b[0;31m---------------------------------------------------------------------------\u001b[0m",
            "\u001b[0;31mNameError\u001b[0m                                 Traceback (most recent call last)",
            "\u001b[0;32m<ipython-input-53-72ae0f2b3501>\u001b[0m in \u001b[0;36m<module>\u001b[0;34m\u001b[0m\n\u001b[1;32m      1\u001b[0m \u001b[0;31m# Grab all the closing prices for the tech stock list into one DataFrame\u001b[0m\u001b[0;34m\u001b[0m\u001b[0;34m\u001b[0m\u001b[0;34m\u001b[0m\u001b[0m\n\u001b[1;32m      2\u001b[0m \u001b[0;34m\u001b[0m\u001b[0m\n\u001b[0;32m----> 3\u001b[0;31m \u001b[0mclosingprice_df\u001b[0m \u001b[0;34m=\u001b[0m \u001b[0mDataReader\u001b[0m\u001b[0;34m(\u001b[0m\u001b[0mtech_list\u001b[0m\u001b[0;34m,\u001b[0m \u001b[0;34m'yahoo'\u001b[0m\u001b[0;34m,\u001b[0m \u001b[0mstart\u001b[0m\u001b[0;34m,\u001b[0m \u001b[0mend\u001b[0m\u001b[0;34m)\u001b[0m\u001b[0;34m[\u001b[0m\u001b[0;34m'Close'\u001b[0m\u001b[0;34m]\u001b[0m\u001b[0;34m\u001b[0m\u001b[0;34m\u001b[0m\u001b[0m\n\u001b[0m",
            "\u001b[0;31mNameError\u001b[0m: name 'DataReader' is not defined"
          ]
        }
      ]
    },
    {
      "cell_type": "code",
      "metadata": {
        "id": "gS2daXum3wEA",
        "colab_type": "code",
        "outputId": "f8cfb64f-9fa4-4b44-ba3e-31baa58ce3fa",
        "colab": {
          "base_uri": "https://localhost:8080/",
          "height": 394
        }
      },
      "source": [
        "closingprice_df.head(10)"
      ],
      "execution_count": 56,
      "outputs": [
        {
          "output_type": "error",
          "ename": "NameError",
          "evalue": "name 'closingprice_df' is not defined",
          "traceback": [
            "\u001b[0;31m---------------------------------------------------------------------------\u001b[0m",
            "\u001b[0;31mNameError\u001b[0m                                 Traceback (most recent call last)",
            "\u001b[0;32m<ipython-input-56-ab626e7dce81>\u001b[0m in \u001b[0;36m<module>\u001b[0;34m\u001b[0m\n\u001b[0;32m----> 1\u001b[0;31m \u001b[0mclosingprice_df\u001b[0m\u001b[0;34m.\u001b[0m\u001b[0mhead\u001b[0m\u001b[0;34m(\u001b[0m\u001b[0;36m10\u001b[0m\u001b[0;34m)\u001b[0m\u001b[0;34m\u001b[0m\u001b[0;34m\u001b[0m\u001b[0m\n\u001b[0m",
            "\u001b[0;31mNameError\u001b[0m: name 'closingprice_df' is not defined"
          ]
        }
      ]
    },
    {
      "cell_type": "code",
      "metadata": {
        "id": "sFPMzoZ437iG",
        "colab_type": "code",
        "colab": {}
      },
      "source": [
        "# make a new tech returns DataFrame\n",
        "tech_returns = closingprice_df.pct_change()"
      ],
      "execution_count": null,
      "outputs": []
    },
    {
      "cell_type": "code",
      "metadata": {
        "id": "_01RcWA43-IA",
        "colab_type": "code",
        "outputId": "c12dd965-a39c-4325-da02-4b1a8706b54d",
        "colab": {
          "base_uri": "https://localhost:8080/",
          "height": 238
        }
      },
      "source": [
        "tech_returns.head()"
      ],
      "execution_count": 60,
      "outputs": [
        {
          "output_type": "error",
          "ename": "NameError",
          "evalue": "name 'tech_returns' is not defined",
          "traceback": [
            "\u001b[0;31m---------------------------------------------------------------------------\u001b[0m",
            "\u001b[0;31mNameError\u001b[0m                                 Traceback (most recent call last)",
            "\u001b[0;32m<ipython-input-60-2be9f8e187cf>\u001b[0m in \u001b[0;36m<module>\u001b[0;34m\u001b[0m\n\u001b[0;32m----> 1\u001b[0;31m \u001b[0mtech_returns\u001b[0m\u001b[0;34m.\u001b[0m\u001b[0mhead\u001b[0m\u001b[0;34m(\u001b[0m\u001b[0;34m)\u001b[0m\u001b[0;34m\u001b[0m\u001b[0;34m\u001b[0m\u001b[0m\n\u001b[0m",
            "\u001b[0;31mNameError\u001b[0m: name 'tech_returns' is not defined"
          ]
        }
      ]
    },
    {
      "cell_type": "markdown",
      "metadata": {
        "id": "bVMSJpVC4Esq",
        "colab_type": "text"
      },
      "source": [
        "Now we can compare the daily percentage return of two stocks to check how correlated. First let's see a stock compared to itself.\n",
        "\n",
        "GOOGL is a Alphabet Inc Class A Stock."
      ]
    },
    {
      "cell_type": "code",
      "metadata": {
        "id": "fIa9zAA14BCD",
        "colab_type": "code",
        "outputId": "0e30d2e2-6a63-4391-e72c-41f2e535ea4c",
        "colab": {
          "base_uri": "https://localhost:8080/",
          "height": 458
        }
      },
      "source": [
        "# Comparing Google to itself should show a perfectly linear relationship\n",
        "sns.jointplot('GOOGL','GOOGL',tech_returns,kind='scatter',color='orange')"
      ],
      "execution_count": null,
      "outputs": []
    },
    {
      "cell_type": "markdown",
      "metadata": {
        "id": "0N_YJiVi4LkM",
        "colab_type": "text"
      },
      "source": [
        "So now we can see that if two stocks are perfectly (and positivley) correlated with each other a linear relationship bewteen its daily return values should occur.\n",
        "\n",
        "So let's go ahead and compare Google and Amazon the same way."
      ]
    },
    {
      "cell_type": "code",
      "metadata": {
        "id": "VKkELmBe4Hhv",
        "colab_type": "code",
        "outputId": "67309537-f33d-4a90-801c-1740297774d2",
        "colab": {
          "base_uri": "https://localhost:8080/",
          "height": 657
        }
      },
      "source": [
        "# We'll use joinplot to compare the daily returns of Google and Amazon.\n",
        "\n",
        "sns.jointplot('GOOGL','AMZN',tech_returns, kind='scatter',size=8, color='Skyblue')"
      ],
      "execution_count": 64,
      "outputs": [
        {
          "output_type": "error",
          "ename": "NameError",
          "evalue": "name 'sns' is not defined",
          "traceback": [
            "\u001b[0;31m---------------------------------------------------------------------------\u001b[0m",
            "\u001b[0;31mNameError\u001b[0m                                 Traceback (most recent call last)",
            "\u001b[0;32m<ipython-input-64-bc6305293025>\u001b[0m in \u001b[0;36m<module>\u001b[0;34m\u001b[0m\n\u001b[1;32m      1\u001b[0m \u001b[0;31m# We'll use joinplot to compare the daily returns of Google and Amazon.\u001b[0m\u001b[0;34m\u001b[0m\u001b[0;34m\u001b[0m\u001b[0;34m\u001b[0m\u001b[0m\n\u001b[1;32m      2\u001b[0m \u001b[0;34m\u001b[0m\u001b[0m\n\u001b[0;32m----> 3\u001b[0;31m \u001b[0msns\u001b[0m\u001b[0;34m.\u001b[0m\u001b[0mjointplot\u001b[0m\u001b[0;34m(\u001b[0m\u001b[0;34m'GOOGL'\u001b[0m\u001b[0;34m,\u001b[0m\u001b[0;34m'AMZN'\u001b[0m\u001b[0;34m,\u001b[0m\u001b[0mtech_returns\u001b[0m\u001b[0;34m,\u001b[0m \u001b[0mkind\u001b[0m\u001b[0;34m=\u001b[0m\u001b[0;34m'scatter'\u001b[0m\u001b[0;34m,\u001b[0m\u001b[0msize\u001b[0m\u001b[0;34m=\u001b[0m\u001b[0;36m8\u001b[0m\u001b[0;34m,\u001b[0m \u001b[0mcolor\u001b[0m\u001b[0;34m=\u001b[0m\u001b[0;34m'Skyblue'\u001b[0m\u001b[0;34m)\u001b[0m\u001b[0;34m\u001b[0m\u001b[0;34m\u001b[0m\u001b[0m\n\u001b[0m",
            "\u001b[0;31mNameError\u001b[0m: name 'sns' is not defined"
          ]
        }
      ]
    },
    {
      "cell_type": "code",
      "metadata": {
        "id": "-ay6Q4p-4OXF",
        "colab_type": "code",
        "outputId": "3eb34970-6e41-4630-8339-db4b558184c7",
        "colab": {
          "base_uri": "https://localhost:8080/",
          "height": 657
        }
      },
      "source": [
        "# with Hex plot\n",
        "sns.jointplot('GOOGL','AMZN',tech_returns, kind='hex',size=8, color='skyblue')"
      ],
      "execution_count": null,
      "outputs": []
    },
    {
      "cell_type": "code",
      "metadata": {
        "id": "c9oXxbFl4TRK",
        "colab_type": "code",
        "outputId": "f1b84d52-9906-4e61-85bd-7020a9582b17",
        "colab": {
          "base_uri": "https://localhost:8080/",
          "height": 657
        }
      },
      "source": [
        "# Lets check out for Apple and Microsoft with reg jointplot\n",
        "sns.jointplot('AAPL','MSFT',tech_returns, kind='reg', size=8, color='skyblue')"
      ],
      "execution_count": 68,
      "outputs": [
        {
          "output_type": "error",
          "ename": "NameError",
          "evalue": "name 'sns' is not defined",
          "traceback": [
            "\u001b[0;31m---------------------------------------------------------------------------\u001b[0m",
            "\u001b[0;31mNameError\u001b[0m                                 Traceback (most recent call last)",
            "\u001b[0;32m<ipython-input-68-1933b4dd0ba7>\u001b[0m in \u001b[0;36m<module>\u001b[0;34m\u001b[0m\n\u001b[1;32m      1\u001b[0m \u001b[0;31m# Lets check out for Apple and Microsoft with reg jointplot\u001b[0m\u001b[0;34m\u001b[0m\u001b[0;34m\u001b[0m\u001b[0;34m\u001b[0m\u001b[0m\n\u001b[0;32m----> 2\u001b[0;31m \u001b[0msns\u001b[0m\u001b[0;34m.\u001b[0m\u001b[0mjointplot\u001b[0m\u001b[0;34m(\u001b[0m\u001b[0;34m'AAPL'\u001b[0m\u001b[0;34m,\u001b[0m\u001b[0;34m'MSFT'\u001b[0m\u001b[0;34m,\u001b[0m\u001b[0mtech_returns\u001b[0m\u001b[0;34m,\u001b[0m \u001b[0mkind\u001b[0m\u001b[0;34m=\u001b[0m\u001b[0;34m'reg'\u001b[0m\u001b[0;34m,\u001b[0m \u001b[0msize\u001b[0m\u001b[0;34m=\u001b[0m\u001b[0;36m8\u001b[0m\u001b[0;34m,\u001b[0m \u001b[0mcolor\u001b[0m\u001b[0;34m=\u001b[0m\u001b[0;34m'skyblue'\u001b[0m\u001b[0;34m)\u001b[0m\u001b[0;34m\u001b[0m\u001b[0;34m\u001b[0m\u001b[0m\n\u001b[0m",
            "\u001b[0;31mNameError\u001b[0m: name 'sns' is not defined"
          ]
        }
      ]
    },
    {
      "cell_type": "markdown",
      "metadata": {
        "id": "rd6wAsKm4e0K",
        "colab_type": "text"
      },
      "source": [
        "Intersting, the pearsonr value (officially known as the Pearson product-moment correlation coefficient) can give you a sense of how correlated the daily percentage returns are. You can find more information about it at this link:\n",
        "\n",
        "Url - http://en.wikipedia.org/wiki/Pearson_product-moment_correlation_coefficient\n",
        "\n",
        "But for a quick intuitive sense, check out the picture below."
      ]
    },
    {
      "cell_type": "code",
      "metadata": {
        "id": "FDWfqCf_4V6y",
        "colab_type": "code",
        "outputId": "349c706f-40c7-402c-e2f3-e17dbf0bb8af",
        "colab": {
          "base_uri": "https://localhost:8080/",
          "height": 252
        }
      },
      "source": [
        "from IPython.display import SVG\n",
        "SVG(url='http://upload.wikimedia.org/wikipedia/commons/d/d4/Correlation_examples2.svg')"
      ],
      "execution_count": null,
      "outputs": []
    },
    {
      "cell_type": "markdown",
      "metadata": {
        "id": "KuklkTsO4rma",
        "colab_type": "text"
      },
      "source": [
        "Seaborn and Pandas make it very easy to repeat this comparison analysis for every possible combination of stocks in our technology stock ticker list. We can use sns.pairplot() to automatically create this plot"
      ]
    },
    {
      "cell_type": "code",
      "metadata": {
        "id": "3mfIUWG24dzP",
        "colab_type": "code",
        "outputId": "3711ad0c-6406-4478-d544-451fbf211fce",
        "colab": {
          "base_uri": "https://localhost:8080/",
          "height": 963
        }
      },
      "source": [
        "# We can simply call pairplot on our DataFrame for an automatic visual analysis of all the comparisons\n",
        "sns.pairplot(tech_returns.dropna(),size=3)"
      ],
      "execution_count": null,
      "outputs": []
    },
    {
      "cell_type": "markdown",
      "metadata": {
        "id": "75zhg2H-4zRM",
        "colab_type": "text"
      },
      "source": [
        "Above we can see all the relationships on daily returns between all the stocks. A quick glance shows an interesting correlation between Google and Amazon daily returns. It might be interesting to investigate that individual comaprison. While the simplicity of just calling sns.pairplot() is fantastic we can also use sns.PairGrid() for full control of the figure, including what kind of plots go in the diagonal, the upper triangle, and the lower triangle.\n",
        "\n",
        "Below is an example of utilizing the full power of seaborn to achieve this result."
      ]
    },
    {
      "cell_type": "code",
      "metadata": {
        "id": "hOWL7Tj94u5u",
        "colab_type": "code",
        "outputId": "72ca133a-3407-4899-94b2-cd25fa0d6f15",
        "colab": {
          "base_uri": "https://localhost:8080/",
          "height": 764
        }
      },
      "source": [
        "# Set up the figure by naming it returns_fig, call PairGrid on the DataFrame\n",
        "returns_fig = sns.PairGrid(tech_returns.dropna())\n",
        "\n",
        "# Using map_upper we can specify what the upper triangle will look like.\n",
        "returns_fig.map_upper(plt.scatter,color='purple')\n",
        "\n",
        "# We can also define the lower triangle in the figure, including the plot type (kde) & the color map (BluePurple)\n",
        "returns_fig.map_lower(sns.kdeplot,cmap='cool_d')\n",
        "\n",
        "# Finally we'll define the diagonal as a series of histogram plots of the daily return\n",
        "returns_fig.map_diag(plt.hist,bins=30)"
      ],
      "execution_count": 27,
      "outputs": [
        {
          "output_type": "error",
          "ename": "NameError",
          "evalue": "name 'sns' is not defined",
          "traceback": [
            "\u001b[0;31m---------------------------------------------------------------------------\u001b[0m",
            "\u001b[0;31mNameError\u001b[0m                                 Traceback (most recent call last)",
            "\u001b[0;32m<ipython-input-27-8518883943a7>\u001b[0m in \u001b[0;36m<module>\u001b[0;34m\u001b[0m\n\u001b[1;32m      1\u001b[0m \u001b[0;31m# Set up the figure by naming it returns_fig, call PairGrid on the DataFrame\u001b[0m\u001b[0;34m\u001b[0m\u001b[0;34m\u001b[0m\u001b[0;34m\u001b[0m\u001b[0m\n\u001b[0;32m----> 2\u001b[0;31m \u001b[0mreturns_fig\u001b[0m \u001b[0;34m=\u001b[0m \u001b[0msns\u001b[0m\u001b[0;34m.\u001b[0m\u001b[0mPairGrid\u001b[0m\u001b[0;34m(\u001b[0m\u001b[0mtech_returns\u001b[0m\u001b[0;34m.\u001b[0m\u001b[0mdropna\u001b[0m\u001b[0;34m(\u001b[0m\u001b[0;34m)\u001b[0m\u001b[0;34m)\u001b[0m\u001b[0;34m\u001b[0m\u001b[0;34m\u001b[0m\u001b[0m\n\u001b[0m\u001b[1;32m      3\u001b[0m \u001b[0;34m\u001b[0m\u001b[0m\n\u001b[1;32m      4\u001b[0m \u001b[0;31m# Using map_upper we can specify what the upper triangle will look like.\u001b[0m\u001b[0;34m\u001b[0m\u001b[0;34m\u001b[0m\u001b[0;34m\u001b[0m\u001b[0m\n\u001b[1;32m      5\u001b[0m \u001b[0mreturns_fig\u001b[0m\u001b[0;34m.\u001b[0m\u001b[0mmap_upper\u001b[0m\u001b[0;34m(\u001b[0m\u001b[0mplt\u001b[0m\u001b[0;34m.\u001b[0m\u001b[0mscatter\u001b[0m\u001b[0;34m,\u001b[0m\u001b[0mcolor\u001b[0m\u001b[0;34m=\u001b[0m\u001b[0;34m'purple'\u001b[0m\u001b[0;34m)\u001b[0m\u001b[0;34m\u001b[0m\u001b[0;34m\u001b[0m\u001b[0m\n",
            "\u001b[0;31mNameError\u001b[0m: name 'sns' is not defined"
          ]
        }
      ]
    },
    {
      "cell_type": "markdown",
      "metadata": {
        "id": "VhiywdUa454c",
        "colab_type": "text"
      },
      "source": [
        "We can also analyze the correlation of the closing prices using this exact same technique. Here it is shown, the code repeated from above with the exception of the DataFrame called."
      ]
    },
    {
      "cell_type": "code",
      "metadata": {
        "id": "-eJaRxmW412p",
        "colab_type": "code",
        "outputId": "b750b8a9-9faf-4ee4-f630-0be76a394be4",
        "colab": {
          "base_uri": "https://localhost:8080/",
          "height": 764
        }
      },
      "source": [
        "# Set up the figure by naming it returns_fig, call PairGrid on the DataFrame\n",
        "returns_fig = sns.PairGrid(closingprice_df.dropna())\n",
        "\n",
        "# Using map_upper we can specify what the upper triangle will look like.\n",
        "returns_fig.map_upper(plt.scatter,color='purple')\n",
        "\n",
        "# We can also define the lower triangle in the figure, including the plot type (kde) & the color map (BluePurple)\n",
        "returns_fig.map_lower(sns.kdeplot,cmap='cool_d')\n",
        "\n",
        "# Finally we'll define the diagonal as a series of histogram plots of the daily return\n",
        "returns_fig.map_diag(plt.hist,bins=30)"
      ],
      "execution_count": null,
      "outputs": []
    },
    {
      "cell_type": "markdown",
      "metadata": {
        "id": "Rh7tCmVE5Enn",
        "colab_type": "text"
      },
      "source": [
        "Finally, we can also do a correlation plot, to get actual numerical values for the correlation between the stocks' daily return values. By comparing the closing prices, we see an interesting relationship between Google and Amazon stocks."
      ]
    },
    {
      "cell_type": "code",
      "metadata": {
        "id": "x9qd8ZzO484i",
        "colab_type": "code",
        "outputId": "d47ea09b-af38-4ed5-fac4-f6a49e76cd29",
        "colab": {
          "base_uri": "https://localhost:8080/",
          "height": 300
        }
      },
      "source": [
        "# Let's go ahead and use seaborn for a quick heatmap to get correlation for the daily return of the stocks.\n",
        "sns.heatmap(tech_returns.corr(),annot= True,fmt='.2g',cmap='YlGnBu')"
      ],
      "execution_count": 31,
      "outputs": [
        {
          "output_type": "error",
          "ename": "NameError",
          "evalue": "name 'sns' is not defined",
          "traceback": [
            "\u001b[0;31m---------------------------------------------------------------------------\u001b[0m",
            "\u001b[0;31mNameError\u001b[0m                                 Traceback (most recent call last)",
            "\u001b[0;32m<ipython-input-31-4ce545a7e875>\u001b[0m in \u001b[0;36m<module>\u001b[0;34m\u001b[0m\n\u001b[1;32m      1\u001b[0m \u001b[0;31m# Let's go ahead and use seaborn for a quick heatmap to get correlation for the daily return of the stocks.\u001b[0m\u001b[0;34m\u001b[0m\u001b[0;34m\u001b[0m\u001b[0;34m\u001b[0m\u001b[0m\n\u001b[0;32m----> 2\u001b[0;31m \u001b[0msns\u001b[0m\u001b[0;34m.\u001b[0m\u001b[0mheatmap\u001b[0m\u001b[0;34m(\u001b[0m\u001b[0mtech_returns\u001b[0m\u001b[0;34m.\u001b[0m\u001b[0mcorr\u001b[0m\u001b[0;34m(\u001b[0m\u001b[0;34m)\u001b[0m\u001b[0;34m,\u001b[0m\u001b[0mannot\u001b[0m\u001b[0;34m=\u001b[0m \u001b[0;32mTrue\u001b[0m\u001b[0;34m,\u001b[0m\u001b[0mfmt\u001b[0m\u001b[0;34m=\u001b[0m\u001b[0;34m'.2g'\u001b[0m\u001b[0;34m,\u001b[0m\u001b[0mcmap\u001b[0m\u001b[0;34m=\u001b[0m\u001b[0;34m'YlGnBu'\u001b[0m\u001b[0;34m)\u001b[0m\u001b[0;34m\u001b[0m\u001b[0;34m\u001b[0m\u001b[0m\n\u001b[0m",
            "\u001b[0;31mNameError\u001b[0m: name 'sns' is not defined"
          ]
        }
      ]
    },
    {
      "cell_type": "code",
      "metadata": {
        "id": "8sqknAXn6nJ0",
        "colab_type": "code",
        "outputId": "b8770630-d3ce-43ef-ec44-f3636b6bab9b",
        "colab": {
          "base_uri": "https://localhost:8080/",
          "height": 300
        }
      },
      "source": [
        "# Lets check out the correlation between closing prices of stocks\n",
        "sns.heatmap(closingprice_df.corr(),annot=True,fmt=\".3g\",cmap='YlGnBu')"
      ],
      "execution_count": null,
      "outputs": []
    },
    {
      "cell_type": "markdown",
      "metadata": {
        "id": "W7AGFWaPCaru",
        "colab_type": "text"
      },
      "source": [
        "**Fantastic! Just like we suspected in our PairPlot we see here numerically and visually that Microsoft and Amazon had the strongest correlation of daily stock return. It's also interesting to see that all the technology comapnies are positively correlated.**\n",
        "\n",
        "Great! Now that we've done some daily return analysis, let's go ahead and start looking deeper into actual risk analysis.\n",
        "\n",
        "**Risk Analysis**\n",
        "\n",
        "There are many ways we can quantify risk, one of the most basic ways using the information we've gathered on daily percentage returns is by comparing the expected return with the standard deviation of the daily returns(Risk)."
      ]
    },
    {
      "cell_type": "code",
      "metadata": {
        "id": "8U1B9VPVBPIN",
        "colab_type": "code",
        "colab": {}
      },
      "source": [
        "# Let's start by defining a new DataFrame as a clenaed version of the oriignal tech_returns DataFrame\n",
        "rets = tech_returns.dropna()"
      ],
      "execution_count": 35,
      "outputs": [
        {
          "output_type": "error",
          "ename": "NameError",
          "evalue": "name 'tech_returns' is not defined",
          "traceback": [
            "\u001b[0;31m---------------------------------------------------------------------------\u001b[0m",
            "\u001b[0;31mNameError\u001b[0m                                 Traceback (most recent call last)",
            "\u001b[0;32m<ipython-input-35-14ee546c87ab>\u001b[0m in \u001b[0;36m<module>\u001b[0;34m\u001b[0m\n\u001b[1;32m      1\u001b[0m \u001b[0;31m# Let's start by defining a new DataFrame as a clenaed version of the oriignal tech_returns DataFrame\u001b[0m\u001b[0;34m\u001b[0m\u001b[0;34m\u001b[0m\u001b[0;34m\u001b[0m\u001b[0m\n\u001b[0;32m----> 2\u001b[0;31m \u001b[0mrets\u001b[0m \u001b[0;34m=\u001b[0m \u001b[0mtech_returns\u001b[0m\u001b[0;34m.\u001b[0m\u001b[0mdropna\u001b[0m\u001b[0;34m(\u001b[0m\u001b[0;34m)\u001b[0m\u001b[0;34m\u001b[0m\u001b[0;34m\u001b[0m\u001b[0m\n\u001b[0m",
            "\u001b[0;31mNameError\u001b[0m: name 'tech_returns' is not defined"
          ]
        }
      ]
    },
    {
      "cell_type": "code",
      "metadata": {
        "id": "aXXMec_oDUpQ",
        "colab_type": "code",
        "outputId": "2de6ccf3-5f80-454b-9cd4-4d951c0c2dd7",
        "colab": {
          "base_uri": "https://localhost:8080/",
          "height": 238
        }
      },
      "source": [
        "rets.head()"
      ],
      "execution_count": null,
      "outputs": []
    },
    {
      "cell_type": "code",
      "metadata": {
        "id": "YEc5onO-DYBD",
        "colab_type": "code",
        "outputId": "7b163a11-2ca6-458f-bfad-5b1e6ab87c64",
        "colab": {
          "base_uri": "https://localhost:8080/",
          "height": 342
        }
      },
      "source": [
        "# Defining the area for the circles of scatter plot to avoid tiny little points\n",
        "area = np.pi*20\n",
        "\n",
        "plt.scatter(rets.mean(),rets.std(),s=area)\n",
        "\n",
        "# Set the x and y limits of the plot (optional, remove this if you don't see anything in your plot)\n",
        "plt.xlim([-0.0025,0.0025])\n",
        "plt.ylim([0.001,0.025])\n",
        "\n",
        "#Set the plot axis titles\n",
        "plt.xlabel('Expected returns')\n",
        "plt.ylabel('Risk')\n",
        "\n",
        "# Label the scatter plots, for more info on how this is done, chekc out the link below\n",
        "# http://matplotlib.org/users/annotations_guide.html\n",
        "for label, x, y in zip(rets.columns, rets.mean(), rets.std()):\n",
        "    plt.annotate(\n",
        "        label, \n",
        "        xy = (x, y), xytext = (50, 50),\n",
        "        textcoords = 'offset points', ha = 'right', va = 'bottom',\n",
        "        arrowprops = dict(arrowstyle = 'fancy', connectionstyle = 'arc3,rad=-0.3'))"
      ],
      "execution_count": 39,
      "outputs": [
        {
          "output_type": "error",
          "ename": "NameError",
          "evalue": "name 'plt' is not defined",
          "traceback": [
            "\u001b[0;31m---------------------------------------------------------------------------\u001b[0m",
            "\u001b[0;31mNameError\u001b[0m                                 Traceback (most recent call last)",
            "\u001b[0;32m<ipython-input-39-3738ff623d62>\u001b[0m in \u001b[0;36m<module>\u001b[0;34m\u001b[0m\n\u001b[1;32m      2\u001b[0m \u001b[0marea\u001b[0m \u001b[0;34m=\u001b[0m \u001b[0mnp\u001b[0m\u001b[0;34m.\u001b[0m\u001b[0mpi\u001b[0m\u001b[0;34m*\u001b[0m\u001b[0;36m20\u001b[0m\u001b[0;34m\u001b[0m\u001b[0;34m\u001b[0m\u001b[0m\n\u001b[1;32m      3\u001b[0m \u001b[0;34m\u001b[0m\u001b[0m\n\u001b[0;32m----> 4\u001b[0;31m \u001b[0mplt\u001b[0m\u001b[0;34m.\u001b[0m\u001b[0mscatter\u001b[0m\u001b[0;34m(\u001b[0m\u001b[0mrets\u001b[0m\u001b[0;34m.\u001b[0m\u001b[0mmean\u001b[0m\u001b[0;34m(\u001b[0m\u001b[0;34m)\u001b[0m\u001b[0;34m,\u001b[0m\u001b[0mrets\u001b[0m\u001b[0;34m.\u001b[0m\u001b[0mstd\u001b[0m\u001b[0;34m(\u001b[0m\u001b[0;34m)\u001b[0m\u001b[0;34m,\u001b[0m\u001b[0ms\u001b[0m\u001b[0;34m=\u001b[0m\u001b[0marea\u001b[0m\u001b[0;34m)\u001b[0m\u001b[0;34m\u001b[0m\u001b[0;34m\u001b[0m\u001b[0m\n\u001b[0m\u001b[1;32m      5\u001b[0m \u001b[0;34m\u001b[0m\u001b[0m\n\u001b[1;32m      6\u001b[0m \u001b[0;31m# Set the x and y limits of the plot (optional, remove this if you don't see anything in your plot)\u001b[0m\u001b[0;34m\u001b[0m\u001b[0;34m\u001b[0m\u001b[0;34m\u001b[0m\u001b[0m\n",
            "\u001b[0;31mNameError\u001b[0m: name 'plt' is not defined"
          ]
        }
      ]
    },
    {
      "cell_type": "markdown",
      "metadata": {
        "id": "tlwwwbpLFMEj",
        "colab_type": "text"
      },
      "source": [
        "By looking at the scatter plot we can say these stocks have lower risk and positive expected returns.\n",
        "\n",
        "**Value at Risk**\n",
        "\n",
        "Let's go ahead and define a value at risk parameter for our stocks. We can treat value at risk as the amount of money we could expect to lose (aka putting at risk) for a given confidence interval. There's several methods we can use for estimating a value at risk. Let's go ahead and see some of them in action.\n",
        "\n",
        "Value at risk using the \"bootstrap\" method\n",
        "For this method we will calculate the empirical quantiles from a histogram of daily returns. For more information on quantiles, check out this link: http://en.wikipedia.org/wiki/Quantile\n",
        "\n",
        "# Let's go ahead and repeat the daily returns histogram for Apple stock."
      ]
    },
    {
      "cell_type": "code",
      "metadata": {
        "id": "VldwyBCTEig6",
        "colab_type": "code",
        "outputId": "9eb8e598-45f6-4699-9910-6f6f5a968461",
        "colab": {
          "base_uri": "https://localhost:8080/",
          "height": 296
        }
      },
      "source": [
        "# Note the use of dropna() here, otherwise the NaN values can't be read by seaborn\n",
        "sns.distplot(AAPL['Daily Return'].dropna(),bins=100,color='purple')"
      ],
      "execution_count": null,
      "outputs": []
    },
    {
      "cell_type": "markdown",
      "metadata": {
        "id": "8YpjS8eGMY5U",
        "colab_type": "text"
      },
      "source": [
        "Now we can use quantile to get the risk value for the stock."
      ]
    },
    {
      "cell_type": "code",
      "metadata": {
        "id": "SjZsbTwdMT-y",
        "colab_type": "code",
        "outputId": "b8307114-c5eb-4cd4-b9b1-cfb618f19277",
        "colab": {
          "base_uri": "https://localhost:8080/",
          "height": 34
        }
      },
      "source": [
        "# The 0.05 empirical quantile of daily returns\n",
        "\n",
        "# For APPL stocks\n",
        "rets[\"AAPL\"].quantile(0.05)"
      ],
      "execution_count": 43,
      "outputs": [
        {
          "output_type": "error",
          "ename": "NameError",
          "evalue": "name 'rets' is not defined",
          "traceback": [
            "\u001b[0;31m---------------------------------------------------------------------------\u001b[0m",
            "\u001b[0;31mNameError\u001b[0m                                 Traceback (most recent call last)",
            "\u001b[0;32m<ipython-input-43-bd0fc9908d9e>\u001b[0m in \u001b[0;36m<module>\u001b[0;34m\u001b[0m\n\u001b[1;32m      2\u001b[0m \u001b[0;34m\u001b[0m\u001b[0m\n\u001b[1;32m      3\u001b[0m \u001b[0;31m# For APPL stocks\u001b[0m\u001b[0;34m\u001b[0m\u001b[0;34m\u001b[0m\u001b[0;34m\u001b[0m\u001b[0m\n\u001b[0;32m----> 4\u001b[0;31m \u001b[0mrets\u001b[0m\u001b[0;34m[\u001b[0m\u001b[0;34m\"AAPL\"\u001b[0m\u001b[0;34m]\u001b[0m\u001b[0;34m.\u001b[0m\u001b[0mquantile\u001b[0m\u001b[0;34m(\u001b[0m\u001b[0;36m0.05\u001b[0m\u001b[0;34m)\u001b[0m\u001b[0;34m\u001b[0m\u001b[0;34m\u001b[0m\u001b[0m\n\u001b[0m",
            "\u001b[0;31mNameError\u001b[0m: name 'rets' is not defined"
          ]
        }
      ]
    },
    {
      "cell_type": "markdown",
      "metadata": {
        "id": "NOwVWs1EMlIx",
        "colab_type": "text"
      },
      "source": [
        "The 0.05 empirical quantile of daily returns is at -0.016. That means that with 95% confidence, our worst daily loss will not exceed 1.6%. If we have a 1 million dollar investment, our one-day 5% VaR is 0.016 * 1,000,000 = $16,000."
      ]
    },
    {
      "cell_type": "code",
      "metadata": {
        "id": "xmw0xefLMb8o",
        "colab_type": "code",
        "outputId": "bb702bc2-579a-405d-9dfa-ceda12ce5e21",
        "colab": {
          "base_uri": "https://localhost:8080/",
          "height": 34
        }
      },
      "source": [
        "# For AMZN stocks\n",
        "rets[\"AMZN\"].quantile(0.05)"
      ],
      "execution_count": null,
      "outputs": []
    },
    {
      "cell_type": "code",
      "metadata": {
        "id": "TaFjQxPtMjur",
        "colab_type": "code",
        "outputId": "458addf7-fc6d-4a6e-e46f-d5650866982f",
        "colab": {
          "base_uri": "https://localhost:8080/",
          "height": 34
        }
      },
      "source": [
        "# For GOOGL stocks\n",
        "rets[\"GOOGL\"].quantile(0.05)"
      ],
      "execution_count": 47,
      "outputs": [
        {
          "output_type": "error",
          "ename": "NameError",
          "evalue": "name 'rets' is not defined",
          "traceback": [
            "\u001b[0;31m---------------------------------------------------------------------------\u001b[0m",
            "\u001b[0;31mNameError\u001b[0m                                 Traceback (most recent call last)",
            "\u001b[0;32m<ipython-input-47-71104140af36>\u001b[0m in \u001b[0;36m<module>\u001b[0;34m\u001b[0m\n\u001b[1;32m      1\u001b[0m \u001b[0;31m# For GOOGL stocks\u001b[0m\u001b[0;34m\u001b[0m\u001b[0;34m\u001b[0m\u001b[0;34m\u001b[0m\u001b[0m\n\u001b[0;32m----> 2\u001b[0;31m \u001b[0mrets\u001b[0m\u001b[0;34m[\u001b[0m\u001b[0;34m\"GOOGL\"\u001b[0m\u001b[0;34m]\u001b[0m\u001b[0;34m.\u001b[0m\u001b[0mquantile\u001b[0m\u001b[0;34m(\u001b[0m\u001b[0;36m0.05\u001b[0m\u001b[0;34m)\u001b[0m\u001b[0;34m\u001b[0m\u001b[0;34m\u001b[0m\u001b[0m\n\u001b[0m",
            "\u001b[0;31mNameError\u001b[0m: name 'rets' is not defined"
          ]
        }
      ]
    },
    {
      "cell_type": "code",
      "metadata": {
        "id": "UxZA6OTyMvOu",
        "colab_type": "code",
        "outputId": "854d77ce-046e-41a8-85a8-a96a7b59251b",
        "colab": {
          "base_uri": "https://localhost:8080/",
          "height": 34
        }
      },
      "source": [
        "# For MSFT stocks\n",
        "rets[\"MSFT\"].quantile(0.05)"
      ],
      "execution_count": null,
      "outputs": []
    },
    {
      "cell_type": "markdown",
      "metadata": {
        "id": "mEAVOh6ZM7Do",
        "colab_type": "text"
      },
      "source": [
        "**Value at Risk using the Monte Carlo method**\n",
        "\n",
        "Using the Monte Carlo to run many trials with random market conditions, then we'll calculate portfolio losses for each trial. After this, we'll use the aggregation of all these simulations to establish how risky the stock is.\n",
        "\n",
        "Let's start with a brief explanation of what we're going to do:\n",
        "\n",
        "We will use the geometric Brownian motion (GBM), which is technically known as a Markov process. This means that the stock price follows a random walk and is consistent with (at the very least) the weak form of the efficient market hypothesis (EMH): past price information is already incorporated and the next price movement is \"conditionally independent\" of past price movements.\n",
        "\n",
        "This means that the past information on the price of a stock is independent of where the stock price will be in the future, basically meaning, you can't perfectly predict the future solely based on the previous price of a stock.\n",
        "\n",
        "Now we see that the change in the stock price is the current stock price multiplied by two terms. The first term is known as \"drift\", which is the average daily return multiplied by the change of time. The second term is known as \"shock\", for each time period the stock will \"drift\" and then experience a \"shock\" which will randomly push the stock price up or down. By simulating this series of steps of drift and shock thousands of times, we can begin to do a simulation of where we might expect the stock price to be.\n",
        "\n",
        "For more info on the Monte Carlo method for stocks and simulating stock prices with GBM model ie. geometric Brownian motion (GBM).\n",
        "\n",
        "check out the following link: http://www.investopedia.com/articles/07/montecarlo.asp\n",
        "\n",
        "To demonstrate a basic Monte Carlo method, we will start with just a few simulations. First we'll define the variables we'll be using in the Google stock DataFrame GOOGL\n",
        "\n"
      ]
    },
    {
      "cell_type": "code",
      "metadata": {
        "id": "KhGBK5_FM1QH",
        "colab_type": "code",
        "outputId": "bda78151-6f0a-4f96-e2e3-b8d4294cf72c",
        "colab": {
          "base_uri": "https://localhost:8080/",
          "height": 238
        }
      },
      "source": [
        "rets.head()"
      ],
      "execution_count": 51,
      "outputs": [
        {
          "output_type": "error",
          "ename": "NameError",
          "evalue": "name 'rets' is not defined",
          "traceback": [
            "\u001b[0;31m---------------------------------------------------------------------------\u001b[0m",
            "\u001b[0;31mNameError\u001b[0m                                 Traceback (most recent call last)",
            "\u001b[0;32m<ipython-input-51-e47353e8effd>\u001b[0m in \u001b[0;36m<module>\u001b[0;34m\u001b[0m\n\u001b[0;32m----> 1\u001b[0;31m \u001b[0mrets\u001b[0m\u001b[0;34m.\u001b[0m\u001b[0mhead\u001b[0m\u001b[0;34m(\u001b[0m\u001b[0;34m)\u001b[0m\u001b[0;34m\u001b[0m\u001b[0;34m\u001b[0m\u001b[0m\n\u001b[0m",
            "\u001b[0;31mNameError\u001b[0m: name 'rets' is not defined"
          ]
        }
      ]
    },
    {
      "cell_type": "code",
      "metadata": {
        "id": "YqsV8DOQNNTI",
        "colab_type": "code",
        "colab": {}
      },
      "source": [
        "# Set up our time horizon\n",
        "days = 365\n",
        "\n",
        "# Now our delta\n",
        "dt = 1/days\n",
        "\n",
        "# Now let's grab our mu (drift) from the expected return data we got for GOOGL\n",
        "mu = rets.mean()['GOOGL']\n",
        "\n",
        "# Now let's grab the volatility of the stock from the std() of the average return for GOOGL\n",
        "sigma = rets.std()['GOOGL']"
      ],
      "execution_count": null,
      "outputs": []
    },
    {
      "cell_type": "markdown",
      "metadata": {
        "id": "HHuQ-cz0NZGu",
        "colab_type": "text"
      },
      "source": [
        "Next, we will create a function that takes in the starting price and number of days, and uses the sigma and mu we already calculated form our daily returns."
      ]
    },
    {
      "cell_type": "code",
      "metadata": {
        "id": "6jaM5LncNVW2",
        "colab_type": "code",
        "colab": {}
      },
      "source": [
        "def stock_monte_carlo(start_price,days,mu,sigma):\n",
        "    ''' This function takes in starting stock price, days of simulation,mu,sigma, and returns simulated price array'''\n",
        "    \n",
        "    # Define a price array\n",
        "    price = np.zeros(days)\n",
        "    price[0] = start_price\n",
        "    \n",
        "    # Schok and Drift\n",
        "    shock = np.zeros(days)\n",
        "    drift = np.zeros(days)\n",
        "    \n",
        "    # Run price array for number of days\n",
        "    for x in range(1,days):\n",
        "        \n",
        "        # Calculate Shock\n",
        "        shock[x] = np.random.normal(loc=mu * dt, scale=sigma * np.sqrt(dt))\n",
        "        # Calculate Drift\n",
        "        drift[x] = mu * dt\n",
        "        # Calculate Price\n",
        "        price[x] = price[x-1] + (price[x-1] * (drift[x] + shock[x]))\n",
        "        \n",
        "    return price"
      ],
      "execution_count": 55,
      "outputs": []
    },
    {
      "cell_type": "markdown",
      "metadata": {
        "id": "Fm9A-31pNhHE",
        "colab_type": "text"
      },
      "source": [
        "Awesome! Now lets put above function to work."
      ]
    },
    {
      "cell_type": "code",
      "metadata": {
        "id": "2T3D8cwTNeDi",
        "colab_type": "code",
        "outputId": "ff1049c6-b848-43ea-a30c-102c92ee7fdc",
        "colab": {
          "base_uri": "https://localhost:8080/",
          "height": 238
        }
      },
      "source": [
        "# For Google Stock - GOOGL\n",
        "GOOGL.head()"
      ],
      "execution_count": null,
      "outputs": []
    },
    {
      "cell_type": "code",
      "metadata": {
        "id": "nDls58R-Nj1C",
        "colab_type": "code",
        "outputId": "e928b89e-889b-452f-c443-4ce6c5b12ad6",
        "colab": {
          "base_uri": "https://localhost:8080/",
          "height": 312
        }
      },
      "source": [
        "start_price = 830.09\n",
        "\n",
        "for run in range(100):\n",
        "    plt.plot(stock_monte_carlo(start_price, days, mu, sigma))\n",
        "    \n",
        "plt.xlabel(\"Days\")\n",
        "plt.ylabel(\"Price\")  \n",
        "plt.title('Monte Carlo Analysis for Google')"
      ],
      "execution_count": 58,
      "outputs": [
        {
          "output_type": "error",
          "ename": "NameError",
          "evalue": "name 'plt' is not defined",
          "traceback": [
            "\u001b[0;31m---------------------------------------------------------------------------\u001b[0m",
            "\u001b[0;31mNameError\u001b[0m                                 Traceback (most recent call last)",
            "\u001b[0;32m<ipython-input-58-e84e3c368580>\u001b[0m in \u001b[0;36m<module>\u001b[0;34m\u001b[0m\n\u001b[1;32m      2\u001b[0m \u001b[0;34m\u001b[0m\u001b[0m\n\u001b[1;32m      3\u001b[0m \u001b[0;32mfor\u001b[0m \u001b[0mrun\u001b[0m \u001b[0;32min\u001b[0m \u001b[0mrange\u001b[0m\u001b[0;34m(\u001b[0m\u001b[0;36m100\u001b[0m\u001b[0;34m)\u001b[0m\u001b[0;34m:\u001b[0m\u001b[0;34m\u001b[0m\u001b[0;34m\u001b[0m\u001b[0m\n\u001b[0;32m----> 4\u001b[0;31m     \u001b[0mplt\u001b[0m\u001b[0;34m.\u001b[0m\u001b[0mplot\u001b[0m\u001b[0;34m(\u001b[0m\u001b[0mstock_monte_carlo\u001b[0m\u001b[0;34m(\u001b[0m\u001b[0mstart_price\u001b[0m\u001b[0;34m,\u001b[0m \u001b[0mdays\u001b[0m\u001b[0;34m,\u001b[0m \u001b[0mmu\u001b[0m\u001b[0;34m,\u001b[0m \u001b[0msigma\u001b[0m\u001b[0;34m)\u001b[0m\u001b[0;34m)\u001b[0m\u001b[0;34m\u001b[0m\u001b[0;34m\u001b[0m\u001b[0m\n\u001b[0m\u001b[1;32m      5\u001b[0m \u001b[0;34m\u001b[0m\u001b[0m\n\u001b[1;32m      6\u001b[0m \u001b[0mplt\u001b[0m\u001b[0;34m.\u001b[0m\u001b[0mxlabel\u001b[0m\u001b[0;34m(\u001b[0m\u001b[0;34m\"Days\"\u001b[0m\u001b[0;34m)\u001b[0m\u001b[0;34m\u001b[0m\u001b[0;34m\u001b[0m\u001b[0m\n",
            "\u001b[0;31mNameError\u001b[0m: name 'plt' is not defined"
          ]
        }
      ]
    },
    {
      "cell_type": "code",
      "metadata": {
        "id": "XXFmekU2NnX7",
        "colab_type": "code",
        "outputId": "53c5e6df-e177-469d-f68c-c36303c987af",
        "colab": {
          "base_uri": "https://localhost:8080/",
          "height": 238
        }
      },
      "source": [
        "# For Amazon Stock - AMZN\n",
        "AMZN.head()"
      ],
      "execution_count": null,
      "outputs": []
    },
    {
      "cell_type": "code",
      "metadata": {
        "id": "IqFIWabjNsPI",
        "colab_type": "code",
        "outputId": "78df9ae2-defa-45ca-9f71-5fedc6379a0c",
        "colab": {
          "base_uri": "https://localhost:8080/",
          "height": 312
        }
      },
      "source": [
        "start_price = 824.95\n",
        "\n",
        "for run in range(100):\n",
        "    plt.plot(stock_monte_carlo(start_price, days, mu, sigma))\n",
        "    \n",
        "plt.xlabel(\"Days\")\n",
        "plt.ylabel(\"Price\")  \n",
        "plt.title('Monte Carlo Analysis for Amazon')"
      ],
      "execution_count": 62,
      "outputs": [
        {
          "output_type": "error",
          "ename": "NameError",
          "evalue": "name 'plt' is not defined",
          "traceback": [
            "\u001b[0;31m---------------------------------------------------------------------------\u001b[0m",
            "\u001b[0;31mNameError\u001b[0m                                 Traceback (most recent call last)",
            "\u001b[0;32m<ipython-input-62-91abaf027614>\u001b[0m in \u001b[0;36m<module>\u001b[0;34m\u001b[0m\n\u001b[1;32m      2\u001b[0m \u001b[0;34m\u001b[0m\u001b[0m\n\u001b[1;32m      3\u001b[0m \u001b[0;32mfor\u001b[0m \u001b[0mrun\u001b[0m \u001b[0;32min\u001b[0m \u001b[0mrange\u001b[0m\u001b[0;34m(\u001b[0m\u001b[0;36m100\u001b[0m\u001b[0;34m)\u001b[0m\u001b[0;34m:\u001b[0m\u001b[0;34m\u001b[0m\u001b[0;34m\u001b[0m\u001b[0m\n\u001b[0;32m----> 4\u001b[0;31m     \u001b[0mplt\u001b[0m\u001b[0;34m.\u001b[0m\u001b[0mplot\u001b[0m\u001b[0;34m(\u001b[0m\u001b[0mstock_monte_carlo\u001b[0m\u001b[0;34m(\u001b[0m\u001b[0mstart_price\u001b[0m\u001b[0;34m,\u001b[0m \u001b[0mdays\u001b[0m\u001b[0;34m,\u001b[0m \u001b[0mmu\u001b[0m\u001b[0;34m,\u001b[0m \u001b[0msigma\u001b[0m\u001b[0;34m)\u001b[0m\u001b[0;34m)\u001b[0m\u001b[0;34m\u001b[0m\u001b[0;34m\u001b[0m\u001b[0m\n\u001b[0m\u001b[1;32m      5\u001b[0m \u001b[0;34m\u001b[0m\u001b[0m\n\u001b[1;32m      6\u001b[0m \u001b[0mplt\u001b[0m\u001b[0;34m.\u001b[0m\u001b[0mxlabel\u001b[0m\u001b[0;34m(\u001b[0m\u001b[0;34m\"Days\"\u001b[0m\u001b[0;34m)\u001b[0m\u001b[0;34m\u001b[0m\u001b[0;34m\u001b[0m\u001b[0m\n",
            "\u001b[0;31mNameError\u001b[0m: name 'plt' is not defined"
          ]
        }
      ]
    },
    {
      "cell_type": "code",
      "metadata": {
        "id": "DJUHSRWzNzHq",
        "colab_type": "code",
        "outputId": "70527706-b462-44bc-8db1-29b010e1d805",
        "colab": {
          "base_uri": "https://localhost:8080/",
          "height": 255
        }
      },
      "source": [
        "# For Apple Stock - AAPL\n",
        "AAPL.head()"
      ],
      "execution_count": null,
      "outputs": []
    },
    {
      "cell_type": "code",
      "metadata": {
        "id": "y1pKFZLON3Zb",
        "colab_type": "code",
        "outputId": "9c59e850-4d52-40a5-d7ad-d72da461608d",
        "colab": {
          "base_uri": "https://localhost:8080/",
          "height": 312
        }
      },
      "source": [
        "start_price = 117.10\n",
        "\n",
        "for run in range(100):\n",
        "    plt.plot(stock_monte_carlo(start_price, days, mu, sigma))\n",
        "    \n",
        "plt.xlabel(\"Days\")\n",
        "plt.ylabel(\"Price\")  \n",
        "plt.title('Monte Carlo Analysis for Apple')"
      ],
      "execution_count": 66,
      "outputs": [
        {
          "output_type": "error",
          "ename": "NameError",
          "evalue": "name 'plt' is not defined",
          "traceback": [
            "\u001b[0;31m---------------------------------------------------------------------------\u001b[0m",
            "\u001b[0;31mNameError\u001b[0m                                 Traceback (most recent call last)",
            "\u001b[0;32m<ipython-input-66-0166659ceb63>\u001b[0m in \u001b[0;36m<module>\u001b[0;34m\u001b[0m\n\u001b[1;32m      2\u001b[0m \u001b[0;34m\u001b[0m\u001b[0m\n\u001b[1;32m      3\u001b[0m \u001b[0;32mfor\u001b[0m \u001b[0mrun\u001b[0m \u001b[0;32min\u001b[0m \u001b[0mrange\u001b[0m\u001b[0;34m(\u001b[0m\u001b[0;36m100\u001b[0m\u001b[0;34m)\u001b[0m\u001b[0;34m:\u001b[0m\u001b[0;34m\u001b[0m\u001b[0;34m\u001b[0m\u001b[0m\n\u001b[0;32m----> 4\u001b[0;31m     \u001b[0mplt\u001b[0m\u001b[0;34m.\u001b[0m\u001b[0mplot\u001b[0m\u001b[0;34m(\u001b[0m\u001b[0mstock_monte_carlo\u001b[0m\u001b[0;34m(\u001b[0m\u001b[0mstart_price\u001b[0m\u001b[0;34m,\u001b[0m \u001b[0mdays\u001b[0m\u001b[0;34m,\u001b[0m \u001b[0mmu\u001b[0m\u001b[0;34m,\u001b[0m \u001b[0msigma\u001b[0m\u001b[0;34m)\u001b[0m\u001b[0;34m)\u001b[0m\u001b[0;34m\u001b[0m\u001b[0;34m\u001b[0m\u001b[0m\n\u001b[0m\u001b[1;32m      5\u001b[0m \u001b[0;34m\u001b[0m\u001b[0m\n\u001b[1;32m      6\u001b[0m \u001b[0mplt\u001b[0m\u001b[0;34m.\u001b[0m\u001b[0mxlabel\u001b[0m\u001b[0;34m(\u001b[0m\u001b[0;34m\"Days\"\u001b[0m\u001b[0;34m)\u001b[0m\u001b[0;34m\u001b[0m\u001b[0;34m\u001b[0m\u001b[0m\n",
            "\u001b[0;31mNameError\u001b[0m: name 'plt' is not defined"
          ]
        }
      ]
    },
    {
      "cell_type": "code",
      "metadata": {
        "id": "4Cdefe0POBgo",
        "colab_type": "code",
        "outputId": "a620964f-e174-4e94-c18b-6de6606909da",
        "colab": {
          "base_uri": "https://localhost:8080/",
          "height": 238
        }
      },
      "source": [
        "# For Microsoft Stock - MSFT\n",
        "MSFT.head()"
      ],
      "execution_count": null,
      "outputs": []
    },
    {
      "cell_type": "code",
      "metadata": {
        "id": "VYpFtR27OEwt",
        "colab_type": "code",
        "outputId": "5aeb7305-abaf-4311-94fb-03075516617d",
        "colab": {
          "base_uri": "https://localhost:8080/",
          "height": 312
        }
      },
      "source": [
        "start_price = 59.94\n",
        "\n",
        "for run in range(100):\n",
        "    plt.plot(stock_monte_carlo(start_price, days, mu, sigma))\n",
        "    \n",
        "plt.xlabel(\"Days\")\n",
        "plt.ylabel(\"Price\")  \n",
        "plt.title('Monte Carlo Analysis for Microsoft')"
      ],
      "execution_count": 70,
      "outputs": [
        {
          "output_type": "error",
          "ename": "NameError",
          "evalue": "name 'plt' is not defined",
          "traceback": [
            "\u001b[0;31m---------------------------------------------------------------------------\u001b[0m",
            "\u001b[0;31mNameError\u001b[0m                                 Traceback (most recent call last)",
            "\u001b[0;32m<ipython-input-70-d39e6631d2e7>\u001b[0m in \u001b[0;36m<module>\u001b[0;34m\u001b[0m\n\u001b[1;32m      2\u001b[0m \u001b[0;34m\u001b[0m\u001b[0m\n\u001b[1;32m      3\u001b[0m \u001b[0;32mfor\u001b[0m \u001b[0mrun\u001b[0m \u001b[0;32min\u001b[0m \u001b[0mrange\u001b[0m\u001b[0;34m(\u001b[0m\u001b[0;36m100\u001b[0m\u001b[0;34m)\u001b[0m\u001b[0;34m:\u001b[0m\u001b[0;34m\u001b[0m\u001b[0;34m\u001b[0m\u001b[0m\n\u001b[0;32m----> 4\u001b[0;31m     \u001b[0mplt\u001b[0m\u001b[0;34m.\u001b[0m\u001b[0mplot\u001b[0m\u001b[0;34m(\u001b[0m\u001b[0mstock_monte_carlo\u001b[0m\u001b[0;34m(\u001b[0m\u001b[0mstart_price\u001b[0m\u001b[0;34m,\u001b[0m \u001b[0mdays\u001b[0m\u001b[0;34m,\u001b[0m \u001b[0mmu\u001b[0m\u001b[0;34m,\u001b[0m \u001b[0msigma\u001b[0m\u001b[0;34m)\u001b[0m\u001b[0;34m)\u001b[0m\u001b[0;34m\u001b[0m\u001b[0;34m\u001b[0m\u001b[0m\n\u001b[0m\u001b[1;32m      5\u001b[0m \u001b[0;34m\u001b[0m\u001b[0m\n\u001b[1;32m      6\u001b[0m \u001b[0mplt\u001b[0m\u001b[0;34m.\u001b[0m\u001b[0mxlabel\u001b[0m\u001b[0;34m(\u001b[0m\u001b[0;34m\"Days\"\u001b[0m\u001b[0;34m)\u001b[0m\u001b[0;34m\u001b[0m\u001b[0;34m\u001b[0m\u001b[0m\n",
            "\u001b[0;31mNameError\u001b[0m: name 'plt' is not defined"
          ]
        }
      ]
    },
    {
      "cell_type": "markdown",
      "metadata": {
        "id": "DH_RtwOSONJO",
        "colab_type": "text"
      },
      "source": [
        "Let's go ahead and get a histogram of the end results for a much larger run. (note: This could take a little while to run , depending on the number of runs chosen)"
      ]
    },
    {
      "cell_type": "code",
      "metadata": {
        "id": "pkots-zoOIUD",
        "colab_type": "code",
        "colab": {}
      },
      "source": [
        "# Lets start with Google stock price\n",
        "start_price = 830.09\n",
        "\n",
        "# Set a large numebr of runs\n",
        "runs = 10000\n",
        "\n",
        "# Create an empty matrix to hold the end price data\n",
        "simulations = np.zeros(runs)\n",
        "\n",
        "for run in range(runs):    \n",
        "    # Set the simulation data point as the last stock price for that run\n",
        "    simulations[run] = stock_monte_carlo(start_price,days,mu,sigma)[days-1]"
      ],
      "execution_count": 0,
      "outputs": []
    },
    {
      "cell_type": "code",
      "metadata": {
        "id": "ohyOr2sVOapC",
        "colab_type": "code",
        "outputId": "7a0c19e9-1f89-4318-b937-4cc2d34e0f69",
        "colab": {
          "base_uri": "https://localhost:8080/",
          "height": 336
        }
      },
      "source": [
        "# Now we'll define q as the 1% empirical quantile, this basically means that 99% of the values should fall between here\n",
        "q = np.percentile(simulations,1)\n",
        "\n",
        "# Now let's plot the distribution of the end prices\n",
        "plt.hist(simulations, bins=200)\n",
        "\n",
        "# Using plt.figtext to fill in some additional information onto the plot\n",
        "\n",
        "# starting price\n",
        "plt.figtext(0.6,0.8, s='Start Price: $%.2f' % start_price)\n",
        "\n",
        "# mean ending price\n",
        "plt.figtext(0.6,0.7, s='Mean Final Price: $%.2f' % simulations.mean())\n",
        "\n",
        "# Variance of the price (within 99% confidence interval)\n",
        "plt.figtext(0.6,0.6, s='VaR(0.99): $%.2f' % (start_price - q))\n",
        "\n",
        "# To display 1% quantile\n",
        "plt.figtext(0.15, 0.6, s=\"q(0.99): $%.2f\" % q)\n",
        "\n",
        "# Plot a line at the 1% quantile result\n",
        "plt.axvline(x=q, linewidth=4, color='r')\n",
        "\n",
        "# For plot title\n",
        "plt.title(label =\"Final price distribution for Google Stock(GOOGL) after %s days\" % days, weight='bold', color='Y')"
      ],
      "execution_count": 0,
      "outputs": [
        {
          "output_type": "execute_result",
          "data": {
            "text/plain": [
              "Text(0.5, 1.0, 'Final price distribution for Google Stock(GOOGL) after 365 days')"
            ]
          },
          "metadata": {
            "tags": []
          },
          "execution_count": 49
        },
        {
          "output_type": "stream",
          "text": [
            "/usr/local/lib/python3.6/dist-packages/google/colab/_event_manager.py:28: MatplotlibDeprecationWarning: Support for uppercase single-letter colors is deprecated since Matplotlib 3.1 and will be removed in 3.3; please use lowercase instead.\n",
            "  func(*args, **kwargs)\n"
          ],
          "name": "stderr"
        },
        {
          "output_type": "display_data",
          "data": {
            "image/png": "[encoded data removed]",
            "text/plain": [
              "<Figure size 432x288 with 1 Axes>"
            ]
          },
          "metadata": {
            "tags": [],
            "needs_background": "light"
          }
        }
      ]
    },
    {
      "cell_type": "markdown",
      "metadata": {
        "id": "C4kpgEp3Q5sT",
        "colab_type": "text"
      },
      "source": [
        "Awesome! Now we have looked at the 1% empirical quantile of the final price distribution to estimate the Value at Risk for the Google Stock(GOOGL), which looks to be $17.98 for every investment of 830.09 (The price of one initial Google Stock).\n",
        "\n",
        "This basically means for every initial GOOGL stock you purchase you're putting about $17.98 at risk 99% of the time from our Monte Carlo Simulation."
      ]
    },
    {
      "cell_type": "markdown",
      "metadata": {
        "id": "eClXvbG_Q5Zn",
        "colab_type": "text"
      },
      "source": [
        "Now lets plot remaining Stocks to estimate the VaR with our Monte Carlo Simulation"
      ]
    },
    {
      "cell_type": "code",
      "metadata": {
        "id": "p_KyoaBqOrPZ",
        "colab_type": "code",
        "colab": {}
      },
      "source": [
        "# For Amazon Stock Price\n",
        "start_price = 824.95\n",
        "\n",
        "# Set a large numebr of runs\n",
        "runs = 10000\n",
        "\n",
        "# Create an empty matrix to hold the end price data\n",
        "simulations = np.zeros(runs)\n",
        "\n",
        "for run in range(runs):    \n",
        "    # Set the simulation data point as the last stock price for that run\n",
        "    simulations[run] = stock_monte_carlo(start_price,days,mu,sigma)[days-1]"
      ],
      "execution_count": 0,
      "outputs": []
    },
    {
      "cell_type": "code",
      "metadata": {
        "id": "kkEO3FblRB7z",
        "colab_type": "code",
        "outputId": "b9ffedd5-1d19-4aae-e1cd-d6f62c2dbeca",
        "colab": {
          "base_uri": "https://localhost:8080/",
          "height": 336
        }
      },
      "source": [
        "\n",
        "# Now we'll define q as the 1% empirical quantile, this basically means that 99% of the values should fall between here\n",
        "q = np.percentile(simulations,1)\n",
        "\n",
        "# Now let's plot the distribution of the end prices\n",
        "plt.hist(simulations, bins=200)\n",
        "\n",
        "# Using plt.figtext to fill in some additional information onto the plot\n",
        "\n",
        "# starting price\n",
        "plt.figtext(0.6,0.8, s='Start Price: $%.2f' % start_price)\n",
        "\n",
        "# mean ending price\n",
        "plt.figtext(0.6,0.7, s='Mean Final Price: $%.2f' % simulations.mean())\n",
        "\n",
        "# Variance of the price (within 99% confidence interval)\n",
        "plt.figtext(0.6,0.6, s='VaR(0.99): $%.2f' % (start_price - q))\n",
        "\n",
        "# To display 1% quantile\n",
        "plt.figtext(0.15, 0.6, s=\"q(0.99): $%.2f\" % q)\n",
        "\n",
        "# Plot a line at the 1% quantile result\n",
        "plt.axvline(x=q, linewidth=4, color='r')\n",
        "\n",
        "# For plot title\n",
        "plt.title(label=\"Final price distribution for Amazon Stock(AMZN) after %s days\" % days, weight='bold', color='G')"
      ],
      "execution_count": 0,
      "outputs": [
        {
          "output_type": "execute_result",
          "data": {
            "text/plain": [
              "Text(0.5, 1.0, 'Final price distribution for Amazon Stock(AMZN) after 365 days')"
            ]
          },
          "metadata": {
            "tags": []
          },
          "execution_count": 51
        },
        {
          "output_type": "stream",
          "text": [
            "/usr/local/lib/python3.6/dist-packages/google/colab/_event_manager.py:28: MatplotlibDeprecationWarning: Support for uppercase single-letter colors is deprecated since Matplotlib 3.1 and will be removed in 3.3; please use lowercase instead.\n",
            "  func(*args, **kwargs)\n"
          ],
          "name": "stderr"
        },
        {
          "output_type": "display_data",
          "data": {
            "image/png": "[encoded data removed]",
            "text/plain": [
              "<Figure size 432x288 with 1 Axes>"
            ]
          },
          "metadata": {
            "tags": [],
            "needs_background": "light"
          }
        }
      ]
    },
    {
      "cell_type": "markdown",
      "metadata": {
        "id": "MmfftWIVRT16",
        "colab_type": "text"
      },
      "source": [
        "This basically means for every initial AMZN stock you purchase you're putting about $18.13 at risk 99% of the time from our Monte Carlo Simulation."
      ]
    },
    {
      "cell_type": "code",
      "metadata": {
        "id": "tzCuFWjxRJN5",
        "colab_type": "code",
        "colab": {}
      },
      "source": [
        "# For Apple Stock Price\n",
        "start_price = 117.10\n",
        "\n",
        "# Set a large numebr of runs\n",
        "runs = 10000\n",
        "\n",
        "# Create an empty matrix to hold the end price data\n",
        "simulations = np.zeros(runs)\n",
        "\n",
        "for run in range(runs):    \n",
        "    # Set the simulation data point as the last stock price for that run\n",
        "    simulations[run] = stock_monte_carlo(start_price,days,mu,sigma)[days-1]"
      ],
      "execution_count": 0,
      "outputs": []
    },
    {
      "cell_type": "code",
      "metadata": {
        "id": "V5SRJISvRXQQ",
        "colab_type": "code",
        "outputId": "d8f32a58-900a-403d-cc67-fc79f1b1b023",
        "colab": {
          "base_uri": "https://localhost:8080/",
          "height": 336
        }
      },
      "source": [
        "# Now we'll define q as the 1% empirical quantile, this basically means that 99% of the values should fall between here\n",
        "q = np.percentile(simulations,1)\n",
        "\n",
        "# Now let's plot the distribution of the end prices\n",
        "plt.hist(simulations, bins=200)\n",
        "\n",
        "# Using plt.figtext to fill in some additional information onto the plot\n",
        "\n",
        "# starting price\n",
        "plt.figtext(0.6,0.8, s='Start Price: $%.2f' % start_price)\n",
        "\n",
        "# mean ending price\n",
        "plt.figtext(0.6,0.7, s='Mean Final Price: $%.2f' % simulations.mean())\n",
        "\n",
        "# Variance of the price (within 99% confidence interval)\n",
        "plt.figtext(0.6,0.6, s='VaR(0.99): $%.2f' % (start_price - q))\n",
        "\n",
        "# To display 1% quantile\n",
        "plt.figtext(0.15, 0.6, s=\"q(0.99): $%.2f\" % q)\n",
        "\n",
        "# Plot a line at the 1% quantile result\n",
        "plt.axvline(x=q, linewidth=4, color='r')\n",
        "\n",
        "# For plot title\n",
        "plt.title(label = \"Final price distribution for Apple Stock(AAPL) after %s days\" % days, weight='bold', color='B')"
      ],
      "execution_count": 0,
      "outputs": [
        {
          "output_type": "execute_result",
          "data": {
            "text/plain": [
              "Text(0.5, 1.0, 'Final price distribution for Apple Stock(AAPL) after 365 days')"
            ]
          },
          "metadata": {
            "tags": []
          },
          "execution_count": 53
        },
        {
          "output_type": "stream",
          "text": [
            "/usr/local/lib/python3.6/dist-packages/google/colab/_event_manager.py:28: MatplotlibDeprecationWarning: Support for uppercase single-letter colors is deprecated since Matplotlib 3.1 and will be removed in 3.3; please use lowercase instead.\n",
            "  func(*args, **kwargs)\n"
          ],
          "name": "stderr"
        },
        {
          "output_type": "display_data",
          "data": {
            "image/png": "[encoded data removed]",
            "text/plain": [
              "<Figure size 432x288 with 1 Axes>"
            ]
          },
          "metadata": {
            "tags": [],
            "needs_background": "light"
          }
        }
      ]
    },
    {
      "cell_type": "markdown",
      "metadata": {
        "id": "1nRqLkp-Rs_O",
        "colab_type": "text"
      },
      "source": [
        "Great! This basically means for every initial AAPL stock you purchase you're putting about $2.48 at risk 99% of the time from our Monte Carlo Simulation."
      ]
    },
    {
      "cell_type": "code",
      "metadata": {
        "id": "uQ6HIel7RfcW",
        "colab_type": "code",
        "colab": {}
      },
      "source": [
        "# For Microsoft Stock Price\n",
        "start_price = 59.94\n",
        "\n",
        "# Set a large numebr of runs\n",
        "runs = 10000\n",
        "\n",
        "# Create an empty matrix to hold the end price data\n",
        "simulations = np.zeros(runs)\n",
        "\n",
        "for run in range(runs):    \n",
        "    # Set the simulation data point as the last stock price for that run\n",
        "    simulations[run] = stock_monte_carlo(start_price,days,mu,sigma)[days-1]"
      ],
      "execution_count": 0,
      "outputs": []
    },
    {
      "cell_type": "code",
      "metadata": {
        "id": "ofmPa39GRpb-",
        "colab_type": "code",
        "outputId": "06e1207b-1a85-4d0a-a322-e0f0bf7aa55e",
        "colab": {
          "base_uri": "https://localhost:8080/",
          "height": 485
        }
      },
      "source": [
        "# Now we'll define q as the 1% empirical quantile, this basically means that 99% of the values should fall between here\n",
        "q = np.percentile(simulations,1)\n",
        "\n",
        "# Now let's plot the distribution of the end prices\n",
        "plt.hist(simulations, bins=200)\n",
        "\n",
        "# Using plt.figtext to fill in some additional information onto the plot\n",
        "\n",
        "# starting price\n",
        "plt.figtext(0.6,0.8, s='Start Price: $%.2f' % start_price)\n",
        "\n",
        "# mean ending price\n",
        "plt.figtext(0.6,0.7, s='Mean Final Price: $%.2f' % simulations.mean())\n",
        "\n",
        "# Variance of the price (within 99% confidence interval)\n",
        "plt.figtext(0.6,0.6, s='VaR(0.99): $%.2f' % (start_price - q))\n",
        "\n",
        "# To display 1% quantile\n",
        "plt.figtext(0.15, 0.6, s=\"q(0.99): $%.2f\" % q)\n",
        "\n",
        "# Plot a line at the 1% quantile result\n",
        "MESSAGE\n",
        "\n",
        "shit\n",
        "plt.axvline(x=q, linewidth=4, color='r')\n",
        "\n",
        "# For plot title\n",
        "plt.title(label=\"Final price distribution for Microsoft Stock(MSFT) after %s days\" % days, weight='bold', color='M')"
      ],
      "execution_count": 0,
      "outputs": [
        {
          "output_type": "error",
          "ename": "NameError",
          "evalue": "ignored",
          "traceback": [
            "\u001b[0;31m---------------------------------------------------------------------------\u001b[0m",
            "\u001b[0;31mNameError\u001b[0m                                 Traceback (most recent call last)",
            "\u001b[0;32m<ipython-input-55-a856edca500c>\u001b[0m in \u001b[0;36m<module>\u001b[0;34m()\u001b[0m\n\u001b[1;32m     20\u001b[0m \u001b[0;34m\u001b[0m\u001b[0m\n\u001b[1;32m     21\u001b[0m \u001b[0;31m# Plot a line at the 1% quantile result\u001b[0m\u001b[0;34m\u001b[0m\u001b[0;34m\u001b[0m\u001b[0;34m\u001b[0m\u001b[0m\n\u001b[0;32m---> 22\u001b[0;31m \u001b[0mMESSAGE\u001b[0m\u001b[0;34m\u001b[0m\u001b[0;34m\u001b[0m\u001b[0m\n\u001b[0m\u001b[1;32m     23\u001b[0m \u001b[0;34m\u001b[0m\u001b[0m\n\u001b[1;32m     24\u001b[0m \u001b[0mshit\u001b[0m\u001b[0;34m\u001b[0m\u001b[0;34m\u001b[0m\u001b[0m\n",
            "\u001b[0;31mNameError\u001b[0m: name 'MESSAGE' is not defined"
          ]
        },
        {
          "output_type": "display_data",
          "data": {
            "image/png": "[encoded data removed]",
            "text/plain": [
              "<Figure size 432x288 with 1 Axes>"
            ]
          },
          "metadata": {
            "tags": [],
            "needs_background": "light"
          }
        }
      ]
    },
    {
      "cell_type": "markdown",
      "metadata": {
        "id": "fRfKt2AdSKX2",
        "colab_type": "text"
      },
      "source": [
        "Nice, This basically means for every initial MSFT stock you purchase you're putting about $1.28 at risk 99% of the time from our Monte Carlo Simulation."
      ]
    },
    {
      "cell_type": "markdown",
      "metadata": {
        "id": "5xmugQG9SSXp",
        "colab_type": "text"
      },
      "source": [
        "Now lets estiamte the Value at Risk(VaR) for a stock related to other domains.\n",
        "\n",
        "We'll estimate the VaR for:\n",
        "\n",
        "Johnson & Johnson > JNJ (U.S.: NYSE) JNJ\n",
        "Wal-Mart Stores Inc. > WMT (U.S.: NYSE) WMT\n",
        "Nike Inc. > NKE (U.S.: NYSE) NKE\n",
        "By using the above methods to get Value at Risk."
      ]
    },
    {
      "cell_type": "code",
      "metadata": {
        "id": "dFJJm_4QR79A",
        "colab_type": "code",
        "colab": {}
      },
      "source": [
        "# List of NYSE_stocks for analytics\n",
        "NYSE_list = ['JNJ','NKE','WMT']\n",
        "\n",
        "# set up Start and End time for data grab\n",
        "end = datetime.now()\n",
        "start = datetime(end.year-1,end.month,end.day)\n",
        "\n",
        "#For-loop for grabing google finance data and setting as a dataframe\n",
        "# Set DataFrame as the Stock Ticker\n",
        "\n",
        "for stock in NYSE_list:\n",
        "    globals()[stock] = DataReader(stock,'yahoo',start,end)"
      ],
      "execution_count": 0,
      "outputs": []
    },
    {
      "cell_type": "markdown",
      "metadata": {
        "id": "mfVE3wu9Soi6",
        "colab_type": "text"
      },
      "source": [
        "Let's go ahead and play aorund with the JNJ(Johnson & Johnson) Stock DataFrame to get a feel for the data."
      ]
    },
    {
      "cell_type": "code",
      "metadata": {
        "id": "ILjvFCYTSYbH",
        "colab_type": "code",
        "colab": {}
      },
      "source": [
        "JNJ.head()"
      ],
      "execution_count": 0,
      "outputs": []
    },
    {
      "cell_type": "code",
      "metadata": {
        "id": "T4P8-K1DSuC6",
        "colab_type": "code",
        "colab": {}
      },
      "source": [
        "JNJ.describe()"
      ],
      "execution_count": 0,
      "outputs": []
    },
    {
      "cell_type": "code",
      "metadata": {
        "id": "igILtOfCSyX-",
        "colab_type": "code",
        "colab": {}
      },
      "source": [
        "JNJ.info()"
      ],
      "execution_count": 0,
      "outputs": []
    },
    {
      "cell_type": "code",
      "metadata": {
        "id": "niaf-KL2S1Vp",
        "colab_type": "code",
        "colab": {}
      },
      "source": [
        "# Let's see a historical view of the closing price for JNJ(Johnson & Johnson)\n",
        "JNJ['Close'].plot(title='Closing Price - JNJ',legend=True, figsize=(10,4))"
      ],
      "execution_count": 0,
      "outputs": []
    },
    {
      "cell_type": "code",
      "metadata": {
        "id": "P01BBJ6_S5bq",
        "colab_type": "code",
        "colab": {}
      },
      "source": [
        "# Let's see a historical view of the closing price for NKE(Nike Inc.)\n",
        "NKE['Close'].plot(title='Closing Price - NKE',legend=True, figsize=(10,4))"
      ],
      "execution_count": 0,
      "outputs": []
    },
    {
      "cell_type": "code",
      "metadata": {
        "id": "f7ieuc-6TAd2",
        "colab_type": "code",
        "colab": {}
      },
      "source": [
        "# Let's see a historical view of the closing price for WMT(Wal-Mart Stores Inc.)\n",
        "WMT['Close'].plot(title='Closing Price - WMT',legend=True, figsize=(10,4))"
      ],
      "execution_count": 0,
      "outputs": []
    },
    {
      "cell_type": "markdown",
      "metadata": {
        "id": "cf0y--D6TLA6",
        "colab_type": "text"
      },
      "source": [
        "**Value at risk using the \"Bootstrap\" method**\n",
        "\n",
        "we will calculate the empirical quantiles from a histogram of daily returns.\n",
        "\n",
        "Let's go ahead and use pandas to retrieve the daily returns for the JNJ, WMT & NKE stock."
      ]
    },
    {
      "cell_type": "code",
      "metadata": {
        "id": "Q3hK360LTFYU",
        "colab_type": "code",
        "colab": {}
      },
      "source": [
        "# We'll use pct_change to find the percent change for each day\n",
        "\n",
        "#For JNJ stocks\n",
        "JNJ['Daily Return'] = JNJ['Close'].pct_change()"
      ],
      "execution_count": 0,
      "outputs": []
    },
    {
      "cell_type": "code",
      "metadata": {
        "id": "st0O3Zg5TVdK",
        "colab_type": "code",
        "colab": {}
      },
      "source": [
        "# Note the use of dropna() here, otherwise the NaN values can't be read by seaborn\n",
        "sns.distplot(JNJ['Daily Return'].dropna(),bins=100,color='R')"
      ],
      "execution_count": 0,
      "outputs": []
    },
    {
      "cell_type": "code",
      "metadata": {
        "id": "Rd-cTEpXTYw9",
        "colab_type": "code",
        "colab": {}
      },
      "source": [
        "(JNJ['Daily Return'].dropna()).quantile(0.05)"
      ],
      "execution_count": 0,
      "outputs": []
    },
    {
      "cell_type": "markdown",
      "metadata": {
        "id": "TGbCraRCTj5-",
        "colab_type": "text"
      },
      "source": [
        "The 0.05 empirical quantile of JNJ stock daily returns is at -0.010. That means that with 95% confidence, our worst daily loss will not exceed 1%. If we have a 1 million dollar investment, our one-day 5% VaR is 0.010 * 1,000,000 = $10,000."
      ]
    },
    {
      "cell_type": "code",
      "metadata": {
        "id": "nz4XqmvKTd0g",
        "colab_type": "code",
        "colab": {}
      },
      "source": [
        "# For WMT stocks\n",
        "WMT['Daily Return'] = WMT['Close'].pct_change()"
      ],
      "execution_count": 0,
      "outputs": []
    },
    {
      "cell_type": "code",
      "metadata": {
        "id": "O5S4JexWTqkW",
        "colab_type": "code",
        "colab": {}
      },
      "source": [
        "sns.distplot(WMT['Daily Return'].dropna(),bins=100,color='G')"
      ],
      "execution_count": 0,
      "outputs": []
    },
    {
      "cell_type": "code",
      "metadata": {
        "id": "ZZ_xH6u5TvBa",
        "colab_type": "code",
        "colab": {}
      },
      "source": [
        "(WMT['Daily Return'].dropna()).quantile(0.05)"
      ],
      "execution_count": 0,
      "outputs": []
    },
    {
      "cell_type": "markdown",
      "metadata": {
        "id": "FyzUddeST6oF",
        "colab_type": "text"
      },
      "source": [
        "The 0.05 empirical quantile of WMT stock daily returns is at -0.013. That means that with 95% confidence, our worst daily loss will not exceed 1.3%. If we have a 1 million dollar investment, our one-day 5% VaR is 0.013 * 1,000,000 = $13,000."
      ]
    },
    {
      "cell_type": "code",
      "metadata": {
        "id": "P2phmBW2T3GC",
        "colab_type": "code",
        "colab": {}
      },
      "source": [
        "# For NKE stocks\n",
        "NKE['Daily Return'] = NKE['Close'].pct_change()"
      ],
      "execution_count": 0,
      "outputs": []
    },
    {
      "cell_type": "code",
      "metadata": {
        "id": "5I37HvQUUAkE",
        "colab_type": "code",
        "colab": {}
      },
      "source": [
        "sns.distplot(NKE['Daily Return'].dropna(),bins=100,color='B')"
      ],
      "execution_count": 0,
      "outputs": []
    },
    {
      "cell_type": "code",
      "metadata": {
        "id": "rEPG1NsGUMHb",
        "colab_type": "code",
        "colab": {}
      },
      "source": [
        "(NKE['Daily Return'].dropna()).quantile(0.05)"
      ],
      "execution_count": 0,
      "outputs": []
    },
    {
      "cell_type": "markdown",
      "metadata": {
        "id": "ZMp4xXpXUTrO",
        "colab_type": "text"
      },
      "source": [
        "The 0.05 empirical quantile of NKE stock daily returns is at -0.018. That means that with 95% confidence, our worst daily loss will not exceed 1.8%. If we have a 1 million dollar investment, our one-day 5% VaR is 0.018 * 1,000,000 = $18,000."
      ]
    },
    {
      "cell_type": "code",
      "metadata": {
        "id": "LC5k67M4UPy4",
        "colab_type": "code",
        "colab": {}
      },
      "source": [
        ""
      ],
      "execution_count": 0,
      "outputs": []
    }
  ],
  "metadata": {
    "colab": {
      "name": "Minor_Project.ipynb",
      "provenance": [],
      "collapsed_sections": []
    },
    "kernelspec": {
      "name": "python3",
      "display_name": "Python 3"
    }
  },
  "nbformat": 4,
  "nbformat_minor": 0
}